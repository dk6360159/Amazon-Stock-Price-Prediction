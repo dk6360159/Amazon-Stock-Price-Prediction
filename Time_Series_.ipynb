{
  "cells": [
    {
      "cell_type": "markdown",
      "id": "448ab917",
      "metadata": {
        "id": "448ab917"
      },
      "source": [
        "# Amazon Stock Data-Set with time series analysis"
      ]
    },
    {
      "cell_type": "markdown",
      "id": "bbed7c75",
      "metadata": {
        "id": "bbed7c75"
      },
      "source": [
        "##### Here the link of the data-set is--\n",
        "https://www.kaggle.com/datasets/salmanfaroz/amazon-stock-price-1997-to-2020 <br>\n",
        "Here we choose the opening column as our time series response variable."
      ]
    },
    {
      "cell_type": "code",
      "source": [
        "import numpy as np\n",
        "import pandas as pd\n",
        "import matplotlib.pyplot as plt\n",
        "import seaborn as sns\n",
        "from datetime import datetime\n",
        "import warnings\n",
        "warnings.filterwarnings(\"ignore\")"
      ],
      "metadata": {
        "id": "kFmKeHgoLGcQ"
      },
      "id": "kFmKeHgoLGcQ",
      "execution_count": null,
      "outputs": []
    },
    {
      "cell_type": "code",
      "execution_count": null,
      "id": "11c83ffd",
      "metadata": {
        "colab": {
          "base_uri": "https://localhost:8080/",
          "height": 206
        },
        "id": "11c83ffd",
        "outputId": "a3863e4e-3539-4ffa-f597-ae8f80f8557e"
      },
      "outputs": [
        {
          "output_type": "execute_result",
          "data": {
            "text/plain": [
              "         Date      Open      High       Low     Close  Adj Close    Volume\n",
              "0  1997-05-15  2.437500  2.500000  1.927083  1.958333   1.958333  72156000\n",
              "1  1997-05-16  1.968750  1.979167  1.708333  1.729167   1.729167  14700000\n",
              "2  1997-05-19  1.760417  1.770833  1.625000  1.708333   1.708333   6106800\n",
              "3  1997-05-20  1.729167  1.750000  1.635417  1.635417   1.635417   5467200\n",
              "4  1997-05-21  1.635417  1.645833  1.375000  1.427083   1.427083  18853200"
            ],
            "text/html": [
              "\n",
              "  <div id=\"df-bd0beac7-8c5f-430a-a01b-ff5c71547e25\">\n",
              "    <div class=\"colab-df-container\">\n",
              "      <div>\n",
              "<style scoped>\n",
              "    .dataframe tbody tr th:only-of-type {\n",
              "        vertical-align: middle;\n",
              "    }\n",
              "\n",
              "    .dataframe tbody tr th {\n",
              "        vertical-align: top;\n",
              "    }\n",
              "\n",
              "    .dataframe thead th {\n",
              "        text-align: right;\n",
              "    }\n",
              "</style>\n",
              "<table border=\"1\" class=\"dataframe\">\n",
              "  <thead>\n",
              "    <tr style=\"text-align: right;\">\n",
              "      <th></th>\n",
              "      <th>Date</th>\n",
              "      <th>Open</th>\n",
              "      <th>High</th>\n",
              "      <th>Low</th>\n",
              "      <th>Close</th>\n",
              "      <th>Adj Close</th>\n",
              "      <th>Volume</th>\n",
              "    </tr>\n",
              "  </thead>\n",
              "  <tbody>\n",
              "    <tr>\n",
              "      <th>0</th>\n",
              "      <td>1997-05-15</td>\n",
              "      <td>2.437500</td>\n",
              "      <td>2.500000</td>\n",
              "      <td>1.927083</td>\n",
              "      <td>1.958333</td>\n",
              "      <td>1.958333</td>\n",
              "      <td>72156000</td>\n",
              "    </tr>\n",
              "    <tr>\n",
              "      <th>1</th>\n",
              "      <td>1997-05-16</td>\n",
              "      <td>1.968750</td>\n",
              "      <td>1.979167</td>\n",
              "      <td>1.708333</td>\n",
              "      <td>1.729167</td>\n",
              "      <td>1.729167</td>\n",
              "      <td>14700000</td>\n",
              "    </tr>\n",
              "    <tr>\n",
              "      <th>2</th>\n",
              "      <td>1997-05-19</td>\n",
              "      <td>1.760417</td>\n",
              "      <td>1.770833</td>\n",
              "      <td>1.625000</td>\n",
              "      <td>1.708333</td>\n",
              "      <td>1.708333</td>\n",
              "      <td>6106800</td>\n",
              "    </tr>\n",
              "    <tr>\n",
              "      <th>3</th>\n",
              "      <td>1997-05-20</td>\n",
              "      <td>1.729167</td>\n",
              "      <td>1.750000</td>\n",
              "      <td>1.635417</td>\n",
              "      <td>1.635417</td>\n",
              "      <td>1.635417</td>\n",
              "      <td>5467200</td>\n",
              "    </tr>\n",
              "    <tr>\n",
              "      <th>4</th>\n",
              "      <td>1997-05-21</td>\n",
              "      <td>1.635417</td>\n",
              "      <td>1.645833</td>\n",
              "      <td>1.375000</td>\n",
              "      <td>1.427083</td>\n",
              "      <td>1.427083</td>\n",
              "      <td>18853200</td>\n",
              "    </tr>\n",
              "  </tbody>\n",
              "</table>\n",
              "</div>\n",
              "      <button class=\"colab-df-convert\" onclick=\"convertToInteractive('df-bd0beac7-8c5f-430a-a01b-ff5c71547e25')\"\n",
              "              title=\"Convert this dataframe to an interactive table.\"\n",
              "              style=\"display:none;\">\n",
              "        \n",
              "  <svg xmlns=\"http://www.w3.org/2000/svg\" height=\"24px\"viewBox=\"0 0 24 24\"\n",
              "       width=\"24px\">\n",
              "    <path d=\"M0 0h24v24H0V0z\" fill=\"none\"/>\n",
              "    <path d=\"M18.56 5.44l.94 2.06.94-2.06 2.06-.94-2.06-.94-.94-2.06-.94 2.06-2.06.94zm-11 1L8.5 8.5l.94-2.06 2.06-.94-2.06-.94L8.5 2.5l-.94 2.06-2.06.94zm10 10l.94 2.06.94-2.06 2.06-.94-2.06-.94-.94-2.06-.94 2.06-2.06.94z\"/><path d=\"M17.41 7.96l-1.37-1.37c-.4-.4-.92-.59-1.43-.59-.52 0-1.04.2-1.43.59L10.3 9.45l-7.72 7.72c-.78.78-.78 2.05 0 2.83L4 21.41c.39.39.9.59 1.41.59.51 0 1.02-.2 1.41-.59l7.78-7.78 2.81-2.81c.8-.78.8-2.07 0-2.86zM5.41 20L4 18.59l7.72-7.72 1.47 1.35L5.41 20z\"/>\n",
              "  </svg>\n",
              "      </button>\n",
              "      \n",
              "  <style>\n",
              "    .colab-df-container {\n",
              "      display:flex;\n",
              "      flex-wrap:wrap;\n",
              "      gap: 12px;\n",
              "    }\n",
              "\n",
              "    .colab-df-convert {\n",
              "      background-color: #E8F0FE;\n",
              "      border: none;\n",
              "      border-radius: 50%;\n",
              "      cursor: pointer;\n",
              "      display: none;\n",
              "      fill: #1967D2;\n",
              "      height: 32px;\n",
              "      padding: 0 0 0 0;\n",
              "      width: 32px;\n",
              "    }\n",
              "\n",
              "    .colab-df-convert:hover {\n",
              "      background-color: #E2EBFA;\n",
              "      box-shadow: 0px 1px 2px rgba(60, 64, 67, 0.3), 0px 1px 3px 1px rgba(60, 64, 67, 0.15);\n",
              "      fill: #174EA6;\n",
              "    }\n",
              "\n",
              "    [theme=dark] .colab-df-convert {\n",
              "      background-color: #3B4455;\n",
              "      fill: #D2E3FC;\n",
              "    }\n",
              "\n",
              "    [theme=dark] .colab-df-convert:hover {\n",
              "      background-color: #434B5C;\n",
              "      box-shadow: 0px 1px 3px 1px rgba(0, 0, 0, 0.15);\n",
              "      filter: drop-shadow(0px 1px 2px rgba(0, 0, 0, 0.3));\n",
              "      fill: #FFFFFF;\n",
              "    }\n",
              "  </style>\n",
              "\n",
              "      <script>\n",
              "        const buttonEl =\n",
              "          document.querySelector('#df-bd0beac7-8c5f-430a-a01b-ff5c71547e25 button.colab-df-convert');\n",
              "        buttonEl.style.display =\n",
              "          google.colab.kernel.accessAllowed ? 'block' : 'none';\n",
              "\n",
              "        async function convertToInteractive(key) {\n",
              "          const element = document.querySelector('#df-bd0beac7-8c5f-430a-a01b-ff5c71547e25');\n",
              "          const dataTable =\n",
              "            await google.colab.kernel.invokeFunction('convertToInteractive',\n",
              "                                                     [key], {});\n",
              "          if (!dataTable) return;\n",
              "\n",
              "          const docLinkHtml = 'Like what you see? Visit the ' +\n",
              "            '<a target=\"_blank\" href=https://colab.research.google.com/notebooks/data_table.ipynb>data table notebook</a>'\n",
              "            + ' to learn more about interactive tables.';\n",
              "          element.innerHTML = '';\n",
              "          dataTable['output_type'] = 'display_data';\n",
              "          await google.colab.output.renderOutput(dataTable, element);\n",
              "          const docLink = document.createElement('div');\n",
              "          docLink.innerHTML = docLinkHtml;\n",
              "          element.appendChild(docLink);\n",
              "        }\n",
              "      </script>\n",
              "    </div>\n",
              "  </div>\n",
              "  "
            ]
          },
          "metadata": {},
          "execution_count": 5
        }
      ],
      "source": [
        "D = pd.read_csv(\"Amazon.csv\")\n",
        "D.head()"
      ]
    },
    {
      "cell_type": "code",
      "execution_count": null,
      "id": "626e33c2",
      "metadata": {
        "colab": {
          "base_uri": "https://localhost:8080/",
          "height": 237
        },
        "id": "626e33c2",
        "outputId": "5236e913-00fe-4741-e5b1-55387cfed6d5"
      },
      "outputs": [
        {
          "output_type": "execute_result",
          "data": {
            "text/plain": [
              "                               Open\n",
              "Date                               \n",
              "1997-05-15 00:00:00+00:00  2.437500\n",
              "1997-05-16 00:00:00+00:00  1.968750\n",
              "1997-05-19 00:00:00+00:00  1.760417\n",
              "1997-05-20 00:00:00+00:00  1.729167\n",
              "1997-05-21 00:00:00+00:00  1.635417"
            ],
            "text/html": [
              "\n",
              "  <div id=\"df-febc867d-4917-418f-99f5-95d40b8b9d2b\">\n",
              "    <div class=\"colab-df-container\">\n",
              "      <div>\n",
              "<style scoped>\n",
              "    .dataframe tbody tr th:only-of-type {\n",
              "        vertical-align: middle;\n",
              "    }\n",
              "\n",
              "    .dataframe tbody tr th {\n",
              "        vertical-align: top;\n",
              "    }\n",
              "\n",
              "    .dataframe thead th {\n",
              "        text-align: right;\n",
              "    }\n",
              "</style>\n",
              "<table border=\"1\" class=\"dataframe\">\n",
              "  <thead>\n",
              "    <tr style=\"text-align: right;\">\n",
              "      <th></th>\n",
              "      <th>Open</th>\n",
              "    </tr>\n",
              "    <tr>\n",
              "      <th>Date</th>\n",
              "      <th></th>\n",
              "    </tr>\n",
              "  </thead>\n",
              "  <tbody>\n",
              "    <tr>\n",
              "      <th>1997-05-15 00:00:00+00:00</th>\n",
              "      <td>2.437500</td>\n",
              "    </tr>\n",
              "    <tr>\n",
              "      <th>1997-05-16 00:00:00+00:00</th>\n",
              "      <td>1.968750</td>\n",
              "    </tr>\n",
              "    <tr>\n",
              "      <th>1997-05-19 00:00:00+00:00</th>\n",
              "      <td>1.760417</td>\n",
              "    </tr>\n",
              "    <tr>\n",
              "      <th>1997-05-20 00:00:00+00:00</th>\n",
              "      <td>1.729167</td>\n",
              "    </tr>\n",
              "    <tr>\n",
              "      <th>1997-05-21 00:00:00+00:00</th>\n",
              "      <td>1.635417</td>\n",
              "    </tr>\n",
              "  </tbody>\n",
              "</table>\n",
              "</div>\n",
              "      <button class=\"colab-df-convert\" onclick=\"convertToInteractive('df-febc867d-4917-418f-99f5-95d40b8b9d2b')\"\n",
              "              title=\"Convert this dataframe to an interactive table.\"\n",
              "              style=\"display:none;\">\n",
              "        \n",
              "  <svg xmlns=\"http://www.w3.org/2000/svg\" height=\"24px\"viewBox=\"0 0 24 24\"\n",
              "       width=\"24px\">\n",
              "    <path d=\"M0 0h24v24H0V0z\" fill=\"none\"/>\n",
              "    <path d=\"M18.56 5.44l.94 2.06.94-2.06 2.06-.94-2.06-.94-.94-2.06-.94 2.06-2.06.94zm-11 1L8.5 8.5l.94-2.06 2.06-.94-2.06-.94L8.5 2.5l-.94 2.06-2.06.94zm10 10l.94 2.06.94-2.06 2.06-.94-2.06-.94-.94-2.06-.94 2.06-2.06.94z\"/><path d=\"M17.41 7.96l-1.37-1.37c-.4-.4-.92-.59-1.43-.59-.52 0-1.04.2-1.43.59L10.3 9.45l-7.72 7.72c-.78.78-.78 2.05 0 2.83L4 21.41c.39.39.9.59 1.41.59.51 0 1.02-.2 1.41-.59l7.78-7.78 2.81-2.81c.8-.78.8-2.07 0-2.86zM5.41 20L4 18.59l7.72-7.72 1.47 1.35L5.41 20z\"/>\n",
              "  </svg>\n",
              "      </button>\n",
              "      \n",
              "  <style>\n",
              "    .colab-df-container {\n",
              "      display:flex;\n",
              "      flex-wrap:wrap;\n",
              "      gap: 12px;\n",
              "    }\n",
              "\n",
              "    .colab-df-convert {\n",
              "      background-color: #E8F0FE;\n",
              "      border: none;\n",
              "      border-radius: 50%;\n",
              "      cursor: pointer;\n",
              "      display: none;\n",
              "      fill: #1967D2;\n",
              "      height: 32px;\n",
              "      padding: 0 0 0 0;\n",
              "      width: 32px;\n",
              "    }\n",
              "\n",
              "    .colab-df-convert:hover {\n",
              "      background-color: #E2EBFA;\n",
              "      box-shadow: 0px 1px 2px rgba(60, 64, 67, 0.3), 0px 1px 3px 1px rgba(60, 64, 67, 0.15);\n",
              "      fill: #174EA6;\n",
              "    }\n",
              "\n",
              "    [theme=dark] .colab-df-convert {\n",
              "      background-color: #3B4455;\n",
              "      fill: #D2E3FC;\n",
              "    }\n",
              "\n",
              "    [theme=dark] .colab-df-convert:hover {\n",
              "      background-color: #434B5C;\n",
              "      box-shadow: 0px 1px 3px 1px rgba(0, 0, 0, 0.15);\n",
              "      filter: drop-shadow(0px 1px 2px rgba(0, 0, 0, 0.3));\n",
              "      fill: #FFFFFF;\n",
              "    }\n",
              "  </style>\n",
              "\n",
              "      <script>\n",
              "        const buttonEl =\n",
              "          document.querySelector('#df-febc867d-4917-418f-99f5-95d40b8b9d2b button.colab-df-convert');\n",
              "        buttonEl.style.display =\n",
              "          google.colab.kernel.accessAllowed ? 'block' : 'none';\n",
              "\n",
              "        async function convertToInteractive(key) {\n",
              "          const element = document.querySelector('#df-febc867d-4917-418f-99f5-95d40b8b9d2b');\n",
              "          const dataTable =\n",
              "            await google.colab.kernel.invokeFunction('convertToInteractive',\n",
              "                                                     [key], {});\n",
              "          if (!dataTable) return;\n",
              "\n",
              "          const docLinkHtml = 'Like what you see? Visit the ' +\n",
              "            '<a target=\"_blank\" href=https://colab.research.google.com/notebooks/data_table.ipynb>data table notebook</a>'\n",
              "            + ' to learn more about interactive tables.';\n",
              "          element.innerHTML = '';\n",
              "          dataTable['output_type'] = 'display_data';\n",
              "          await google.colab.output.renderOutput(dataTable, element);\n",
              "          const docLink = document.createElement('div');\n",
              "          docLink.innerHTML = docLinkHtml;\n",
              "          element.appendChild(docLink);\n",
              "        }\n",
              "      </script>\n",
              "    </div>\n",
              "  </div>\n",
              "  "
            ]
          },
          "metadata": {},
          "execution_count": 6
        }
      ],
      "source": [
        "from pandas.core.tools.datetimes import to_datetime\n",
        "\n",
        "D[\"Date\"] = to_datetime(D[\"Date\"],format  = \"%Y-%m-%d\",utc = True)\n",
        "D = D.set_index(D[\"Date\"])\n",
        "Data = pd.DataFrame(D.loc[:,(\"Open\")])\n",
        "Data.head()"
      ]
    },
    {
      "cell_type": "markdown",
      "id": "6184d549",
      "metadata": {
        "id": "6184d549"
      },
      "source": [
        "# Plotting the data--"
      ]
    },
    {
      "cell_type": "code",
      "execution_count": null,
      "id": "171b2ed7",
      "metadata": {
        "id": "171b2ed7",
        "outputId": "edbb6ffc-597f-42f4-cfd1-f0164ee74a40",
        "colab": {
          "base_uri": "https://localhost:8080/",
          "height": 350
        }
      },
      "outputs": [
        {
          "output_type": "display_data",
          "data": {
            "text/plain": [
              "<Figure size 864x360 with 1 Axes>"
            ],
            "image/png": "[encoded data removed]"
          },
          "metadata": {
            "needs_background": "light"
          }
        }
      ],
      "source": [
        "plt.figure(figsize = (12,5))\n",
        "plt.plot(Data)\n",
        "plt.xlabel(\"Date\")\n",
        "plt.ylabel(\"Open\")\n",
        "plt.title(\"Line Diagram for Opening Stock Price\")\n",
        "plt.show()"
      ]
    },
    {
      "cell_type": "markdown",
      "id": "73407e98",
      "metadata": {
        "id": "73407e98"
      },
      "source": [
        "##### So, let us split our data into train and test component as\n",
        "train data = First 80% of the total data <br>\n",
        "test data = Remaing 20% observations"
      ]
    },
    {
      "cell_type": "code",
      "execution_count": null,
      "id": "c40bb36a",
      "metadata": {
        "id": "c40bb36a",
        "colab": {
          "base_uri": "https://localhost:8080/"
        },
        "outputId": "b7a67f63-0ed4-48e0-a07b-20a01835c5f1"
      },
      "outputs": [
        {
          "output_type": "execute_result",
          "data": {
            "text/plain": [
              "5799"
            ]
          },
          "metadata": {},
          "execution_count": 8
        }
      ],
      "source": [
        "l = 5800\n",
        "data_train = Data.iloc[1:l,:]\n",
        "len(data_train)"
      ]
    },
    {
      "cell_type": "code",
      "execution_count": null,
      "id": "227d465f",
      "metadata": {
        "id": "227d465f",
        "colab": {
          "base_uri": "https://localhost:8080/"
        },
        "outputId": "6199753a-fb1b-4fc3-ef63-e980dac1225b"
      },
      "outputs": [
        {
          "output_type": "execute_result",
          "data": {
            "text/plain": [
              "42"
            ]
          },
          "metadata": {},
          "execution_count": 9
        }
      ],
      "source": [
        "\n",
        "data_test = Data.iloc[l:,:]\n",
        "len(data_test)"
      ]
    },
    {
      "cell_type": "markdown",
      "id": "294f5a15",
      "metadata": {
        "id": "294f5a15"
      },
      "source": [
        "#Plotting the training and test data together "
      ]
    },
    {
      "cell_type": "code",
      "execution_count": null,
      "id": "633b81c8",
      "metadata": {
        "id": "633b81c8",
        "outputId": "7925f7c5-c5a5-4207-d680-e0359d29b5c3",
        "colab": {
          "base_uri": "https://localhost:8080/",
          "height": 260
        }
      },
      "outputs": [
        {
          "output_type": "display_data",
          "data": {
            "text/plain": [
              "<Figure size 1440x360 with 1 Axes>"
            ],
            "image/png": "[encoded data removed]"
          },
          "metadata": {
            "needs_background": "light"
          }
        }
      ],
      "source": [
        "plt.figure(figsize = (20,5))\n",
        "plt.plot(data_train,label = \"train data\")\n",
        "plt.plot(data_test,label = \"test data\")\n",
        "plt.xlabel(\"Date\")\n",
        "plt.ylabel(\"Open\")\n",
        "plt.title(\"Data with train & test splitting\")\n",
        "plt.legend()\n",
        "plt.show()"
      ]
    },
    {
      "cell_type": "markdown",
      "id": "ea18767a",
      "metadata": {
        "id": "ea18767a"
      },
      "source": [
        "# Testing for trend"
      ]
    },
    {
      "cell_type": "code",
      "execution_count": null,
      "id": "b5dd803e",
      "metadata": {
        "id": "b5dd803e"
      },
      "outputs": [],
      "source": [
        "import numpy as np\n",
        "\n",
        "def Rel_Or_Test(x):\n",
        "    count = 0\n",
        "    for i in np.arange(len(x)):\n",
        "        for j in np.arange((i+1),len(x)):\n",
        "            if x[i] > x[j]:\n",
        "                count  += 1\n",
        "    return count\n"
      ]
    },
    {
      "cell_type": "code",
      "execution_count": null,
      "id": "ab5b52e8",
      "metadata": {
        "id": "ab5b52e8"
      },
      "outputs": [],
      "source": [
        "Q = Rel_Or_Test(Data.Open)"
      ]
    },
    {
      "cell_type": "code",
      "execution_count": null,
      "id": "03f6d330",
      "metadata": {
        "id": "03f6d330",
        "outputId": "b8d9b9b6-ceec-4bc8-871b-be8bfe1288b6",
        "colab": {
          "base_uri": "https://localhost:8080/"
        }
      },
      "outputs": [
        {
          "output_type": "execute_result",
          "data": {
            "text/plain": [
              "0.8173163639598979"
            ]
          },
          "metadata": {},
          "execution_count": 13
        }
      ],
      "source": [
        "tau = 1-(4*Q/(len(Data.Open)*(len(Data.Open)-1)))\n",
        "tau"
      ]
    },
    {
      "cell_type": "code",
      "execution_count": null,
      "id": "4ce7fa09",
      "metadata": {
        "id": "4ce7fa09",
        "outputId": "8ee78185-4480-4d3e-f334-d4998b1062d0",
        "colab": {
          "base_uri": "https://localhost:8080/"
        }
      },
      "outputs": [
        {
          "output_type": "execute_result",
          "data": {
            "text/plain": [
              "132.5073761220483"
            ]
          },
          "metadata": {},
          "execution_count": 14
        }
      ],
      "source": [
        "import math\n",
        "Z = (tau - 0)/math.sqrt((2*len(Data.Open))/(9*len(Data.Open)*(len(Data.Open)-1)))\n",
        "Z"
      ]
    },
    {
      "cell_type": "code",
      "execution_count": null,
      "id": "4a706a4d",
      "metadata": {
        "id": "4a706a4d",
        "outputId": "de30e97e-d3fb-42f2-dc35-7b586c3bca75",
        "colab": {
          "base_uri": "https://localhost:8080/"
        }
      },
      "outputs": [
        {
          "output_type": "stream",
          "name": "stdout",
          "text": [
            "The Null Hypothesis is rejected....So trend is present\n"
          ]
        }
      ],
      "source": [
        "import scipy.stats as spt\n",
        "if np.abs(Z)>spt.norm.ppf(0.05,0,1):\n",
        "  print(\"The Null Hypothesis is rejected....So trend is present\")\n",
        "else:\n",
        "  print(\"The Null Hypothesis is accepted....so trend is not presented\")\n",
        "\n"
      ]
    },
    {
      "cell_type": "markdown",
      "id": "d32c8cec",
      "metadata": {
        "id": "d32c8cec"
      },
      "source": [
        "# Estimating Trend"
      ]
    },
    {
      "cell_type": "code",
      "source": [
        "l = np.array(Data)\n",
        "l"
      ],
      "metadata": {
        "colab": {
          "base_uri": "https://localhost:8080/"
        },
        "id": "b7gaqAArQEDM",
        "outputId": "d75b6514-a9e1-48e6-96ac-09cac9ccf34a"
      },
      "id": "b7gaqAArQEDM",
      "execution_count": null,
      "outputs": [
        {
          "output_type": "execute_result",
          "data": {
            "text/plain": [
              "array([[2.43750000e+00],\n",
              "       [1.96875000e+00],\n",
              "       [1.76041663e+00],\n",
              "       ...,\n",
              "       [3.03098999e+03],\n",
              "       [3.01400000e+03],\n",
              "       [3.24400000e+03]])"
            ]
          },
          "metadata": {},
          "execution_count": 16
        }
      ]
    },
    {
      "cell_type": "code",
      "source": [
        "log = np.log(l)\n",
        "pd.DataFrame(log).head(100)"
      ],
      "metadata": {
        "colab": {
          "base_uri": "https://localhost:8080/",
          "height": 424
        },
        "id": "bpvNML3I9Onx",
        "outputId": "cad6e640-33fa-4978-8a6e-4110efdbe265"
      },
      "id": "bpvNML3I9Onx",
      "execution_count": null,
      "outputs": [
        {
          "output_type": "execute_result",
          "data": {
            "text/plain": [
              "           0\n",
              "0   0.890973\n",
              "1   0.677399\n",
              "2   0.565551\n",
              "3   0.547640\n",
              "4   0.491898\n",
              "..       ...\n",
              "95  1.386294\n",
              "96  1.490091\n",
              "97  1.396657\n",
              "98  1.406914\n",
              "99  1.386294\n",
              "\n",
              "[100 rows x 1 columns]"
            ],
            "text/html": [
              "\n",
              "  <div id=\"df-31771259-f4dd-4b63-86ce-b9bd84765db0\">\n",
              "    <div class=\"colab-df-container\">\n",
              "      <div>\n",
              "<style scoped>\n",
              "    .dataframe tbody tr th:only-of-type {\n",
              "        vertical-align: middle;\n",
              "    }\n",
              "\n",
              "    .dataframe tbody tr th {\n",
              "        vertical-align: top;\n",
              "    }\n",
              "\n",
              "    .dataframe thead th {\n",
              "        text-align: right;\n",
              "    }\n",
              "</style>\n",
              "<table border=\"1\" class=\"dataframe\">\n",
              "  <thead>\n",
              "    <tr style=\"text-align: right;\">\n",
              "      <th></th>\n",
              "      <th>0</th>\n",
              "    </tr>\n",
              "  </thead>\n",
              "  <tbody>\n",
              "    <tr>\n",
              "      <th>0</th>\n",
              "      <td>0.890973</td>\n",
              "    </tr>\n",
              "    <tr>\n",
              "      <th>1</th>\n",
              "      <td>0.677399</td>\n",
              "    </tr>\n",
              "    <tr>\n",
              "      <th>2</th>\n",
              "      <td>0.565551</td>\n",
              "    </tr>\n",
              "    <tr>\n",
              "      <th>3</th>\n",
              "      <td>0.547640</td>\n",
              "    </tr>\n",
              "    <tr>\n",
              "      <th>4</th>\n",
              "      <td>0.491898</td>\n",
              "    </tr>\n",
              "    <tr>\n",
              "      <th>...</th>\n",
              "      <td>...</td>\n",
              "    </tr>\n",
              "    <tr>\n",
              "      <th>95</th>\n",
              "      <td>1.386294</td>\n",
              "    </tr>\n",
              "    <tr>\n",
              "      <th>96</th>\n",
              "      <td>1.490091</td>\n",
              "    </tr>\n",
              "    <tr>\n",
              "      <th>97</th>\n",
              "      <td>1.396657</td>\n",
              "    </tr>\n",
              "    <tr>\n",
              "      <th>98</th>\n",
              "      <td>1.406914</td>\n",
              "    </tr>\n",
              "    <tr>\n",
              "      <th>99</th>\n",
              "      <td>1.386294</td>\n",
              "    </tr>\n",
              "  </tbody>\n",
              "</table>\n",
              "<p>100 rows × 1 columns</p>\n",
              "</div>\n",
              "      <button class=\"colab-df-convert\" onclick=\"convertToInteractive('df-31771259-f4dd-4b63-86ce-b9bd84765db0')\"\n",
              "              title=\"Convert this dataframe to an interactive table.\"\n",
              "              style=\"display:none;\">\n",
              "        \n",
              "  <svg xmlns=\"http://www.w3.org/2000/svg\" height=\"24px\"viewBox=\"0 0 24 24\"\n",
              "       width=\"24px\">\n",
              "    <path d=\"M0 0h24v24H0V0z\" fill=\"none\"/>\n",
              "    <path d=\"M18.56 5.44l.94 2.06.94-2.06 2.06-.94-2.06-.94-.94-2.06-.94 2.06-2.06.94zm-11 1L8.5 8.5l.94-2.06 2.06-.94-2.06-.94L8.5 2.5l-.94 2.06-2.06.94zm10 10l.94 2.06.94-2.06 2.06-.94-2.06-.94-.94-2.06-.94 2.06-2.06.94z\"/><path d=\"M17.41 7.96l-1.37-1.37c-.4-.4-.92-.59-1.43-.59-.52 0-1.04.2-1.43.59L10.3 9.45l-7.72 7.72c-.78.78-.78 2.05 0 2.83L4 21.41c.39.39.9.59 1.41.59.51 0 1.02-.2 1.41-.59l7.78-7.78 2.81-2.81c.8-.78.8-2.07 0-2.86zM5.41 20L4 18.59l7.72-7.72 1.47 1.35L5.41 20z\"/>\n",
              "  </svg>\n",
              "      </button>\n",
              "      \n",
              "  <style>\n",
              "    .colab-df-container {\n",
              "      display:flex;\n",
              "      flex-wrap:wrap;\n",
              "      gap: 12px;\n",
              "    }\n",
              "\n",
              "    .colab-df-convert {\n",
              "      background-color: #E8F0FE;\n",
              "      border: none;\n",
              "      border-radius: 50%;\n",
              "      cursor: pointer;\n",
              "      display: none;\n",
              "      fill: #1967D2;\n",
              "      height: 32px;\n",
              "      padding: 0 0 0 0;\n",
              "      width: 32px;\n",
              "    }\n",
              "\n",
              "    .colab-df-convert:hover {\n",
              "      background-color: #E2EBFA;\n",
              "      box-shadow: 0px 1px 2px rgba(60, 64, 67, 0.3), 0px 1px 3px 1px rgba(60, 64, 67, 0.15);\n",
              "      fill: #174EA6;\n",
              "    }\n",
              "\n",
              "    [theme=dark] .colab-df-convert {\n",
              "      background-color: #3B4455;\n",
              "      fill: #D2E3FC;\n",
              "    }\n",
              "\n",
              "    [theme=dark] .colab-df-convert:hover {\n",
              "      background-color: #434B5C;\n",
              "      box-shadow: 0px 1px 3px 1px rgba(0, 0, 0, 0.15);\n",
              "      filter: drop-shadow(0px 1px 2px rgba(0, 0, 0, 0.3));\n",
              "      fill: #FFFFFF;\n",
              "    }\n",
              "  </style>\n",
              "\n",
              "      <script>\n",
              "        const buttonEl =\n",
              "          document.querySelector('#df-31771259-f4dd-4b63-86ce-b9bd84765db0 button.colab-df-convert');\n",
              "        buttonEl.style.display =\n",
              "          google.colab.kernel.accessAllowed ? 'block' : 'none';\n",
              "\n",
              "        async function convertToInteractive(key) {\n",
              "          const element = document.querySelector('#df-31771259-f4dd-4b63-86ce-b9bd84765db0');\n",
              "          const dataTable =\n",
              "            await google.colab.kernel.invokeFunction('convertToInteractive',\n",
              "                                                     [key], {});\n",
              "          if (!dataTable) return;\n",
              "\n",
              "          const docLinkHtml = 'Like what you see? Visit the ' +\n",
              "            '<a target=\"_blank\" href=https://colab.research.google.com/notebooks/data_table.ipynb>data table notebook</a>'\n",
              "            + ' to learn more about interactive tables.';\n",
              "          element.innerHTML = '';\n",
              "          dataTable['output_type'] = 'display_data';\n",
              "          await google.colab.output.renderOutput(dataTable, element);\n",
              "          const docLink = document.createElement('div');\n",
              "          docLink.innerHTML = docLinkHtml;\n",
              "          element.appendChild(docLink);\n",
              "        }\n",
              "      </script>\n",
              "    </div>\n",
              "  </div>\n",
              "  "
            ]
          },
          "metadata": {},
          "execution_count": 17
        }
      ]
    },
    {
      "cell_type": "code",
      "source": [
        "delta1 = np.zeros(len(l)).reshape(-1,1)\n",
        "for i in np.arange(1,len(l)):\n",
        "  delta1[i-1] = log[i] - log[i-1]\n",
        "delta1[len(delta1)-1] = delta1[len(delta1) - 2]\n",
        "delta1\n",
        "\n",
        "delta2 = np.zeros(len(l)).reshape(-1,1)\n",
        "for i in np.arange(1,len(l)):\n",
        "  delta2[i-1] = delta1[i] - delta1[i-1]\n",
        "delta2[len(delta2)-1] = delta2[len(delta2) - 2]\n",
        "delta2\n",
        "\n",
        "delta3 = np.zeros(len(l)).reshape(-1,1)\n",
        "for i in np.arange(1,len(l)):\n",
        "  delta3[i-1] = delta2[i] - delta2[i-1]\n",
        "delta3[len(delta3)-1] = delta2[len(delta3) - 2]\n",
        "delta3"
      ],
      "metadata": {
        "colab": {
          "base_uri": "https://localhost:8080/"
        },
        "id": "3PhsPD3xigvR",
        "outputId": "ffab4e88-4d55-4161-f916-a9de31adf8fa"
      },
      "id": "3PhsPD3xigvR",
      "execution_count": null,
      "outputs": [
        {
          "output_type": "execute_result",
          "data": {
            "text/plain": [
              "array([[-0.00778838],\n",
              "       [-0.13176845],\n",
              "       [-0.03541905],\n",
              "       ...,\n",
              "       [-0.07916023],\n",
              "       [ 0.        ],\n",
              "       [ 0.        ]])"
            ]
          },
          "metadata": {},
          "execution_count": 18
        }
      ]
    },
    {
      "cell_type": "code",
      "source": [
        "Data[\"log\"] = log\n",
        "Data[\"Delta1\"] = delta1\n",
        "Data[\"Delta2\"] = delta2\n",
        "Data"
      ],
      "metadata": {
        "colab": {
          "base_uri": "https://localhost:8080/",
          "height": 455
        },
        "id": "LnEhC1jDjp8I",
        "outputId": "f9496e7c-3773-4ffc-c07f-742daf74a15b"
      },
      "id": "LnEhC1jDjp8I",
      "execution_count": null,
      "outputs": [
        {
          "output_type": "execute_result",
          "data": {
            "text/plain": [
              "                                  Open       log    Delta1    Delta2\n",
              "Date                                                                \n",
              "1997-05-15 00:00:00+00:00     2.437500  0.890973 -0.213574  0.101726\n",
              "1997-05-16 00:00:00+00:00     1.968750  0.677399 -0.111848  0.093937\n",
              "1997-05-19 00:00:00+00:00     1.760417  0.565551 -0.017911 -0.037831\n",
              "1997-05-20 00:00:00+00:00     1.729167  0.547640 -0.055742 -0.073250\n",
              "1997-05-21 00:00:00+00:00     1.635417  0.491898 -0.128992  0.107013\n",
              "...                                ...       ...       ...       ...\n",
              "2020-07-27 00:00:00+00:00  3062.000000  8.026824 -0.002528 -0.005124\n",
              "2020-07-28 00:00:00+00:00  3054.270020  8.024296 -0.007651  0.002030\n",
              "2020-07-29 00:00:00+00:00  3030.989990  8.016645 -0.005621  0.079160\n",
              "2020-07-30 00:00:00+00:00  3014.000000  8.011023  0.073539  0.000000\n",
              "2020-07-31 00:00:00+00:00  3244.000000  8.084562  0.073539  0.000000\n",
              "\n",
              "[5842 rows x 4 columns]"
            ],
            "text/html": [
              "\n",
              "  <div id=\"df-27dda853-50df-4b02-89b7-6e551340743f\">\n",
              "    <div class=\"colab-df-container\">\n",
              "      <div>\n",
              "<style scoped>\n",
              "    .dataframe tbody tr th:only-of-type {\n",
              "        vertical-align: middle;\n",
              "    }\n",
              "\n",
              "    .dataframe tbody tr th {\n",
              "        vertical-align: top;\n",
              "    }\n",
              "\n",
              "    .dataframe thead th {\n",
              "        text-align: right;\n",
              "    }\n",
              "</style>\n",
              "<table border=\"1\" class=\"dataframe\">\n",
              "  <thead>\n",
              "    <tr style=\"text-align: right;\">\n",
              "      <th></th>\n",
              "      <th>Open</th>\n",
              "      <th>log</th>\n",
              "      <th>Delta1</th>\n",
              "      <th>Delta2</th>\n",
              "    </tr>\n",
              "    <tr>\n",
              "      <th>Date</th>\n",
              "      <th></th>\n",
              "      <th></th>\n",
              "      <th></th>\n",
              "      <th></th>\n",
              "    </tr>\n",
              "  </thead>\n",
              "  <tbody>\n",
              "    <tr>\n",
              "      <th>1997-05-15 00:00:00+00:00</th>\n",
              "      <td>2.437500</td>\n",
              "      <td>0.890973</td>\n",
              "      <td>-0.213574</td>\n",
              "      <td>0.101726</td>\n",
              "    </tr>\n",
              "    <tr>\n",
              "      <th>1997-05-16 00:00:00+00:00</th>\n",
              "      <td>1.968750</td>\n",
              "      <td>0.677399</td>\n",
              "      <td>-0.111848</td>\n",
              "      <td>0.093937</td>\n",
              "    </tr>\n",
              "    <tr>\n",
              "      <th>1997-05-19 00:00:00+00:00</th>\n",
              "      <td>1.760417</td>\n",
              "      <td>0.565551</td>\n",
              "      <td>-0.017911</td>\n",
              "      <td>-0.037831</td>\n",
              "    </tr>\n",
              "    <tr>\n",
              "      <th>1997-05-20 00:00:00+00:00</th>\n",
              "      <td>1.729167</td>\n",
              "      <td>0.547640</td>\n",
              "      <td>-0.055742</td>\n",
              "      <td>-0.073250</td>\n",
              "    </tr>\n",
              "    <tr>\n",
              "      <th>1997-05-21 00:00:00+00:00</th>\n",
              "      <td>1.635417</td>\n",
              "      <td>0.491898</td>\n",
              "      <td>-0.128992</td>\n",
              "      <td>0.107013</td>\n",
              "    </tr>\n",
              "    <tr>\n",
              "      <th>...</th>\n",
              "      <td>...</td>\n",
              "      <td>...</td>\n",
              "      <td>...</td>\n",
              "      <td>...</td>\n",
              "    </tr>\n",
              "    <tr>\n",
              "      <th>2020-07-27 00:00:00+00:00</th>\n",
              "      <td>3062.000000</td>\n",
              "      <td>8.026824</td>\n",
              "      <td>-0.002528</td>\n",
              "      <td>-0.005124</td>\n",
              "    </tr>\n",
              "    <tr>\n",
              "      <th>2020-07-28 00:00:00+00:00</th>\n",
              "      <td>3054.270020</td>\n",
              "      <td>8.024296</td>\n",
              "      <td>-0.007651</td>\n",
              "      <td>0.002030</td>\n",
              "    </tr>\n",
              "    <tr>\n",
              "      <th>2020-07-29 00:00:00+00:00</th>\n",
              "      <td>3030.989990</td>\n",
              "      <td>8.016645</td>\n",
              "      <td>-0.005621</td>\n",
              "      <td>0.079160</td>\n",
              "    </tr>\n",
              "    <tr>\n",
              "      <th>2020-07-30 00:00:00+00:00</th>\n",
              "      <td>3014.000000</td>\n",
              "      <td>8.011023</td>\n",
              "      <td>0.073539</td>\n",
              "      <td>0.000000</td>\n",
              "    </tr>\n",
              "    <tr>\n",
              "      <th>2020-07-31 00:00:00+00:00</th>\n",
              "      <td>3244.000000</td>\n",
              "      <td>8.084562</td>\n",
              "      <td>0.073539</td>\n",
              "      <td>0.000000</td>\n",
              "    </tr>\n",
              "  </tbody>\n",
              "</table>\n",
              "<p>5842 rows × 4 columns</p>\n",
              "</div>\n",
              "      <button class=\"colab-df-convert\" onclick=\"convertToInteractive('df-27dda853-50df-4b02-89b7-6e551340743f')\"\n",
              "              title=\"Convert this dataframe to an interactive table.\"\n",
              "              style=\"display:none;\">\n",
              "        \n",
              "  <svg xmlns=\"http://www.w3.org/2000/svg\" height=\"24px\"viewBox=\"0 0 24 24\"\n",
              "       width=\"24px\">\n",
              "    <path d=\"M0 0h24v24H0V0z\" fill=\"none\"/>\n",
              "    <path d=\"M18.56 5.44l.94 2.06.94-2.06 2.06-.94-2.06-.94-.94-2.06-.94 2.06-2.06.94zm-11 1L8.5 8.5l.94-2.06 2.06-.94-2.06-.94L8.5 2.5l-.94 2.06-2.06.94zm10 10l.94 2.06.94-2.06 2.06-.94-2.06-.94-.94-2.06-.94 2.06-2.06.94z\"/><path d=\"M17.41 7.96l-1.37-1.37c-.4-.4-.92-.59-1.43-.59-.52 0-1.04.2-1.43.59L10.3 9.45l-7.72 7.72c-.78.78-.78 2.05 0 2.83L4 21.41c.39.39.9.59 1.41.59.51 0 1.02-.2 1.41-.59l7.78-7.78 2.81-2.81c.8-.78.8-2.07 0-2.86zM5.41 20L4 18.59l7.72-7.72 1.47 1.35L5.41 20z\"/>\n",
              "  </svg>\n",
              "      </button>\n",
              "      \n",
              "  <style>\n",
              "    .colab-df-container {\n",
              "      display:flex;\n",
              "      flex-wrap:wrap;\n",
              "      gap: 12px;\n",
              "    }\n",
              "\n",
              "    .colab-df-convert {\n",
              "      background-color: #E8F0FE;\n",
              "      border: none;\n",
              "      border-radius: 50%;\n",
              "      cursor: pointer;\n",
              "      display: none;\n",
              "      fill: #1967D2;\n",
              "      height: 32px;\n",
              "      padding: 0 0 0 0;\n",
              "      width: 32px;\n",
              "    }\n",
              "\n",
              "    .colab-df-convert:hover {\n",
              "      background-color: #E2EBFA;\n",
              "      box-shadow: 0px 1px 2px rgba(60, 64, 67, 0.3), 0px 1px 3px 1px rgba(60, 64, 67, 0.15);\n",
              "      fill: #174EA6;\n",
              "    }\n",
              "\n",
              "    [theme=dark] .colab-df-convert {\n",
              "      background-color: #3B4455;\n",
              "      fill: #D2E3FC;\n",
              "    }\n",
              "\n",
              "    [theme=dark] .colab-df-convert:hover {\n",
              "      background-color: #434B5C;\n",
              "      box-shadow: 0px 1px 3px 1px rgba(0, 0, 0, 0.15);\n",
              "      filter: drop-shadow(0px 1px 2px rgba(0, 0, 0, 0.3));\n",
              "      fill: #FFFFFF;\n",
              "    }\n",
              "  </style>\n",
              "\n",
              "      <script>\n",
              "        const buttonEl =\n",
              "          document.querySelector('#df-27dda853-50df-4b02-89b7-6e551340743f button.colab-df-convert');\n",
              "        buttonEl.style.display =\n",
              "          google.colab.kernel.accessAllowed ? 'block' : 'none';\n",
              "\n",
              "        async function convertToInteractive(key) {\n",
              "          const element = document.querySelector('#df-27dda853-50df-4b02-89b7-6e551340743f');\n",
              "          const dataTable =\n",
              "            await google.colab.kernel.invokeFunction('convertToInteractive',\n",
              "                                                     [key], {});\n",
              "          if (!dataTable) return;\n",
              "\n",
              "          const docLinkHtml = 'Like what you see? Visit the ' +\n",
              "            '<a target=\"_blank\" href=https://colab.research.google.com/notebooks/data_table.ipynb>data table notebook</a>'\n",
              "            + ' to learn more about interactive tables.';\n",
              "          element.innerHTML = '';\n",
              "          dataTable['output_type'] = 'display_data';\n",
              "          await google.colab.output.renderOutput(dataTable, element);\n",
              "          const docLink = document.createElement('div');\n",
              "          docLink.innerHTML = docLinkHtml;\n",
              "          element.appendChild(docLink);\n",
              "        }\n",
              "      </script>\n",
              "    </div>\n",
              "  </div>\n",
              "  "
            ]
          },
          "metadata": {},
          "execution_count": 19
        }
      ]
    },
    {
      "cell_type": "code",
      "source": [
        "plt.figure(figsize = (16,4))\n",
        "plt.plot(Data.log,data = Data,label = \"log\")\n",
        "plt.plot(Data.Delta1,data = Data,label = \"delta1\")\n",
        "plt.plot(Data.Delta2,data = Data,label = \"delta2\")\n",
        "plt.legend()\n",
        "plt.show()"
      ],
      "metadata": {
        "colab": {
          "base_uri": "https://localhost:8080/",
          "height": 248
        },
        "id": "qe8rzNVgmnrV",
        "outputId": "726b0527-93fd-40a5-8b5b-9d5abc114dfa"
      },
      "id": "qe8rzNVgmnrV",
      "execution_count": null,
      "outputs": [
        {
          "output_type": "display_data",
          "data": {
            "text/plain": [
              "<Figure size 1152x288 with 1 Axes>"
            ],
            "image/png": "[encoded data removed]"
          },
          "metadata": {
            "needs_background": "light"
          }
        }
      ]
    },
    {
      "cell_type": "code",
      "source": [
        "Q = Rel_Or_Test(log)"
      ],
      "metadata": {
        "id": "2D_MvBLawC1d"
      },
      "id": "2D_MvBLawC1d",
      "execution_count": null,
      "outputs": []
    },
    {
      "cell_type": "code",
      "source": [
        "tau = 1-(4*Q/(len(Data.Open)*(len(Data.Open)-1)))\n",
        "tau"
      ],
      "metadata": {
        "colab": {
          "base_uri": "https://localhost:8080/"
        },
        "id": "UdX7j78m-nBv",
        "outputId": "0def147e-5bf0-499d-eaee-78c33607318b"
      },
      "id": "UdX7j78m-nBv",
      "execution_count": null,
      "outputs": [
        {
          "output_type": "execute_result",
          "data": {
            "text/plain": [
              "0.8173163639598979"
            ]
          },
          "metadata": {},
          "execution_count": 22
        }
      ]
    },
    {
      "cell_type": "code",
      "source": [
        "import math\n",
        "Z = (tau - 0)/math.sqrt((2*len(Data.Open))/(9*len(Data.Open)*(len(Data.Open)-1)))\n",
        "Z"
      ],
      "metadata": {
        "colab": {
          "base_uri": "https://localhost:8080/"
        },
        "id": "SYuHlcqd-nUR",
        "outputId": "83995c94-304f-4c90-ab03-8e75ee2f72cd"
      },
      "id": "SYuHlcqd-nUR",
      "execution_count": null,
      "outputs": [
        {
          "output_type": "execute_result",
          "data": {
            "text/plain": [
              "132.5073761220483"
            ]
          },
          "metadata": {},
          "execution_count": 23
        }
      ]
    },
    {
      "cell_type": "code",
      "source": [
        "import scipy.stats as spt\n",
        "if np.abs(Z)>spt.norm.ppf(0.95,0,1):\n",
        "  print (\"The Null Hypothesis is rejected....So trend is present\")\n",
        "else:\n",
        "  print (\"The Null Hypothesis is accepted....so trend is not presented\")"
      ],
      "metadata": {
        "colab": {
          "base_uri": "https://localhost:8080/"
        },
        "id": "5kmHth9M-nlM",
        "outputId": "1ce6167c-6dd9-4fed-877e-be5e8742672d"
      },
      "id": "5kmHth9M-nlM",
      "execution_count": null,
      "outputs": [
        {
          "output_type": "stream",
          "name": "stdout",
          "text": [
            "The Null Hypothesis is rejected....So trend is present\n"
          ]
        }
      ]
    },
    {
      "cell_type": "code",
      "source": [],
      "metadata": {
        "id": "WHB85bqS-n1B"
      },
      "id": "WHB85bqS-n1B",
      "execution_count": null,
      "outputs": []
    },
    {
      "cell_type": "code",
      "source": [
        "Q = Rel_Or_Test(Data.Delta1)"
      ],
      "metadata": {
        "id": "Ylw0h-6zpH5S"
      },
      "id": "Ylw0h-6zpH5S",
      "execution_count": null,
      "outputs": []
    },
    {
      "cell_type": "code",
      "source": [
        "tau = 1-(4*Q/(len(Data.Open)*(len(Data.Open)-1)))\n",
        "tau"
      ],
      "metadata": {
        "colab": {
          "base_uri": "https://localhost:8080/"
        },
        "id": "96pYjZHwpkwY",
        "outputId": "cf0cb5e2-6219-4eac-cc1b-0b4f1f3b2354"
      },
      "id": "96pYjZHwpkwY",
      "execution_count": null,
      "outputs": [
        {
          "output_type": "execute_result",
          "data": {
            "text/plain": [
              "0.01406934570640983"
            ]
          },
          "metadata": {},
          "execution_count": 26
        }
      ]
    },
    {
      "cell_type": "code",
      "source": [
        "import math\n",
        "Z = (tau - 0)/math.sqrt((2*len(Data.Open))/(9*len(Data.Open)*(len(Data.Open)-1)))\n",
        "Z"
      ],
      "metadata": {
        "colab": {
          "base_uri": "https://localhost:8080/"
        },
        "id": "O0gKqeEYpsXC",
        "outputId": "8853a970-414b-4344-c126-5083baea76e4"
      },
      "id": "O0gKqeEYpsXC",
      "execution_count": null,
      "outputs": [
        {
          "output_type": "execute_result",
          "data": {
            "text/plain": [
              "2.280991994676183"
            ]
          },
          "metadata": {},
          "execution_count": 27
        }
      ]
    },
    {
      "cell_type": "code",
      "source": [
        "import scipy.stats as spt\n",
        "if Z>spt.norm.ppf(0.95,0,1):\n",
        "    print (\"The Null Hypothesis is rejected....So trend is present\")\n",
        "else:\n",
        "    print (\"The Null Hypothesis is accepted....so trend is not presented\")"
      ],
      "metadata": {
        "colab": {
          "base_uri": "https://localhost:8080/"
        },
        "id": "VlB0gFGFp4Fi",
        "outputId": "53629783-657f-4b99-95e3-00cbac531286"
      },
      "id": "VlB0gFGFp4Fi",
      "execution_count": null,
      "outputs": [
        {
          "output_type": "stream",
          "name": "stdout",
          "text": [
            "The Null Hypothesis is rejected....So trend is present\n"
          ]
        }
      ]
    },
    {
      "cell_type": "code",
      "source": [
        "plt.figure(figsize = (16,4))\n",
        "plt.plot(Data.Delta1,data = Data)\n",
        "plt.show()"
      ],
      "metadata": {
        "colab": {
          "base_uri": "https://localhost:8080/",
          "height": 244
        },
        "id": "sqwGZmRDqD_a",
        "outputId": "d88348aa-2e37-44eb-e340-7d9b6737b13a"
      },
      "id": "sqwGZmRDqD_a",
      "execution_count": null,
      "outputs": [
        {
          "output_type": "display_data",
          "data": {
            "text/plain": [
              "<Figure size 1152x288 with 1 Axes>"
            ],
            "image/png": "[encoded data removed]"
          },
          "metadata": {
            "needs_background": "light"
          }
        }
      ]
    },
    {
      "cell_type": "code",
      "source": [
        "Q = Rel_Or_Test(Data.Delta2)"
      ],
      "metadata": {
        "id": "TPA17kalqJqA"
      },
      "id": "TPA17kalqJqA",
      "execution_count": null,
      "outputs": []
    },
    {
      "cell_type": "code",
      "source": [
        "tau = 1-(4*Q/(len(Data.Open)*(len(Data.Open)-1)))\n",
        "tau"
      ],
      "metadata": {
        "colab": {
          "base_uri": "https://localhost:8080/"
        },
        "id": "ef_BOya3qVdF",
        "outputId": "55130eab-2355-4e48-be96-c3fd3e2d8dcb"
      },
      "id": "ef_BOya3qVdF",
      "execution_count": null,
      "outputs": [
        {
          "output_type": "execute_result",
          "data": {
            "text/plain": [
              "-0.0008162793545092306"
            ]
          },
          "metadata": {},
          "execution_count": 31
        }
      ]
    },
    {
      "cell_type": "code",
      "source": [
        "import math\n",
        "Z = (tau - 0)/math.sqrt((2*len(Data.Open))/(9*len(Data.Open)*(len(Data.Open)-1)))\n",
        "print(Z)"
      ],
      "metadata": {
        "colab": {
          "base_uri": "https://localhost:8080/"
        },
        "id": "8M-yLSNKqV2b",
        "outputId": "e7dc4d71-9eac-446e-bc05-7628549e7ba5"
      },
      "id": "8M-yLSNKqV2b",
      "execution_count": null,
      "outputs": [
        {
          "output_type": "stream",
          "name": "stdout",
          "text": [
            "-0.1323392510148304\n"
          ]
        }
      ]
    },
    {
      "cell_type": "code",
      "source": [
        "spt.norm.ppf(0.95,0,1)\n"
      ],
      "metadata": {
        "colab": {
          "base_uri": "https://localhost:8080/"
        },
        "id": "HiF1J662rMaD",
        "outputId": "8f7bf5e9-f919-4566-dc41-fa3fe541c774"
      },
      "id": "HiF1J662rMaD",
      "execution_count": null,
      "outputs": [
        {
          "output_type": "execute_result",
          "data": {
            "text/plain": [
              "1.6448536269514722"
            ]
          },
          "metadata": {},
          "execution_count": 33
        }
      ]
    },
    {
      "cell_type": "code",
      "source": [
        "import scipy.stats as spt\n",
        "if np.abs(Z)>spt.norm.ppf(0.95,0,1):\n",
        "  print(\"The Null Hypothesis is rejected....So trend is present\")\n",
        "else:\n",
        "  print(\"The Null Hypothesis is accepted....so trend is not presented\")"
      ],
      "metadata": {
        "colab": {
          "base_uri": "https://localhost:8080/"
        },
        "id": "VPYtTaixqWKI",
        "outputId": "8fa051a0-0d84-4595-870b-66dbfc6862bb"
      },
      "id": "VPYtTaixqWKI",
      "execution_count": null,
      "outputs": [
        {
          "output_type": "stream",
          "name": "stdout",
          "text": [
            "The Null Hypothesis is accepted....so trend is not presented\n"
          ]
        }
      ]
    },
    {
      "cell_type": "code",
      "source": [
        "plt.figure(figsize = (16,4))\n",
        "plt.plot(Data.Delta2,data = Data)\n",
        "plt.show()"
      ],
      "metadata": {
        "colab": {
          "base_uri": "https://localhost:8080/",
          "height": 244
        },
        "id": "CtqCSKKyqWs1",
        "outputId": "75faaded-eb68-4d7e-b442-5fd9d9dd4b17"
      },
      "id": "CtqCSKKyqWs1",
      "execution_count": null,
      "outputs": [
        {
          "output_type": "display_data",
          "data": {
            "text/plain": [
              "<Figure size 1152x288 with 1 Axes>"
            ],
            "image/png": "[encoded data removed]"
          },
          "metadata": {
            "needs_background": "light"
          }
        }
      ]
    },
    {
      "cell_type": "markdown",
      "source": [
        "# Checking for Seasonality"
      ],
      "metadata": {
        "id": "3QNANbOTDtI0"
      },
      "id": "3QNANbOTDtI0"
    },
    {
      "cell_type": "code",
      "source": [
        "sr = pd.Series(Data.Delta2)\n",
        "d_trend=pd.DataFrame(sr)\n",
        "d_trend"
      ],
      "metadata": {
        "id": "0rbFaqw94ylQ",
        "outputId": "1b7d1121-db75-49d9-8f14-ebedff19779a",
        "colab": {
          "base_uri": "https://localhost:8080/",
          "height": 455
        }
      },
      "id": "0rbFaqw94ylQ",
      "execution_count": null,
      "outputs": [
        {
          "output_type": "execute_result",
          "data": {
            "text/plain": [
              "                             Delta2\n",
              "Date                               \n",
              "1997-05-15 00:00:00+00:00  0.101726\n",
              "1997-05-16 00:00:00+00:00  0.093937\n",
              "1997-05-19 00:00:00+00:00 -0.037831\n",
              "1997-05-20 00:00:00+00:00 -0.073250\n",
              "1997-05-21 00:00:00+00:00  0.107013\n",
              "...                             ...\n",
              "2020-07-27 00:00:00+00:00 -0.005124\n",
              "2020-07-28 00:00:00+00:00  0.002030\n",
              "2020-07-29 00:00:00+00:00  0.079160\n",
              "2020-07-30 00:00:00+00:00  0.000000\n",
              "2020-07-31 00:00:00+00:00  0.000000\n",
              "\n",
              "[5842 rows x 1 columns]"
            ],
            "text/html": [
              "\n",
              "  <div id=\"df-44dcc4dd-e55d-4a82-a1a0-2b3a96777b13\">\n",
              "    <div class=\"colab-df-container\">\n",
              "      <div>\n",
              "<style scoped>\n",
              "    .dataframe tbody tr th:only-of-type {\n",
              "        vertical-align: middle;\n",
              "    }\n",
              "\n",
              "    .dataframe tbody tr th {\n",
              "        vertical-align: top;\n",
              "    }\n",
              "\n",
              "    .dataframe thead th {\n",
              "        text-align: right;\n",
              "    }\n",
              "</style>\n",
              "<table border=\"1\" class=\"dataframe\">\n",
              "  <thead>\n",
              "    <tr style=\"text-align: right;\">\n",
              "      <th></th>\n",
              "      <th>Delta2</th>\n",
              "    </tr>\n",
              "    <tr>\n",
              "      <th>Date</th>\n",
              "      <th></th>\n",
              "    </tr>\n",
              "  </thead>\n",
              "  <tbody>\n",
              "    <tr>\n",
              "      <th>1997-05-15 00:00:00+00:00</th>\n",
              "      <td>0.101726</td>\n",
              "    </tr>\n",
              "    <tr>\n",
              "      <th>1997-05-16 00:00:00+00:00</th>\n",
              "      <td>0.093937</td>\n",
              "    </tr>\n",
              "    <tr>\n",
              "      <th>1997-05-19 00:00:00+00:00</th>\n",
              "      <td>-0.037831</td>\n",
              "    </tr>\n",
              "    <tr>\n",
              "      <th>1997-05-20 00:00:00+00:00</th>\n",
              "      <td>-0.073250</td>\n",
              "    </tr>\n",
              "    <tr>\n",
              "      <th>1997-05-21 00:00:00+00:00</th>\n",
              "      <td>0.107013</td>\n",
              "    </tr>\n",
              "    <tr>\n",
              "      <th>...</th>\n",
              "      <td>...</td>\n",
              "    </tr>\n",
              "    <tr>\n",
              "      <th>2020-07-27 00:00:00+00:00</th>\n",
              "      <td>-0.005124</td>\n",
              "    </tr>\n",
              "    <tr>\n",
              "      <th>2020-07-28 00:00:00+00:00</th>\n",
              "      <td>0.002030</td>\n",
              "    </tr>\n",
              "    <tr>\n",
              "      <th>2020-07-29 00:00:00+00:00</th>\n",
              "      <td>0.079160</td>\n",
              "    </tr>\n",
              "    <tr>\n",
              "      <th>2020-07-30 00:00:00+00:00</th>\n",
              "      <td>0.000000</td>\n",
              "    </tr>\n",
              "    <tr>\n",
              "      <th>2020-07-31 00:00:00+00:00</th>\n",
              "      <td>0.000000</td>\n",
              "    </tr>\n",
              "  </tbody>\n",
              "</table>\n",
              "<p>5842 rows × 1 columns</p>\n",
              "</div>\n",
              "      <button class=\"colab-df-convert\" onclick=\"convertToInteractive('df-44dcc4dd-e55d-4a82-a1a0-2b3a96777b13')\"\n",
              "              title=\"Convert this dataframe to an interactive table.\"\n",
              "              style=\"display:none;\">\n",
              "        \n",
              "  <svg xmlns=\"http://www.w3.org/2000/svg\" height=\"24px\"viewBox=\"0 0 24 24\"\n",
              "       width=\"24px\">\n",
              "    <path d=\"M0 0h24v24H0V0z\" fill=\"none\"/>\n",
              "    <path d=\"M18.56 5.44l.94 2.06.94-2.06 2.06-.94-2.06-.94-.94-2.06-.94 2.06-2.06.94zm-11 1L8.5 8.5l.94-2.06 2.06-.94-2.06-.94L8.5 2.5l-.94 2.06-2.06.94zm10 10l.94 2.06.94-2.06 2.06-.94-2.06-.94-.94-2.06-.94 2.06-2.06.94z\"/><path d=\"M17.41 7.96l-1.37-1.37c-.4-.4-.92-.59-1.43-.59-.52 0-1.04.2-1.43.59L10.3 9.45l-7.72 7.72c-.78.78-.78 2.05 0 2.83L4 21.41c.39.39.9.59 1.41.59.51 0 1.02-.2 1.41-.59l7.78-7.78 2.81-2.81c.8-.78.8-2.07 0-2.86zM5.41 20L4 18.59l7.72-7.72 1.47 1.35L5.41 20z\"/>\n",
              "  </svg>\n",
              "      </button>\n",
              "      \n",
              "  <style>\n",
              "    .colab-df-container {\n",
              "      display:flex;\n",
              "      flex-wrap:wrap;\n",
              "      gap: 12px;\n",
              "    }\n",
              "\n",
              "    .colab-df-convert {\n",
              "      background-color: #E8F0FE;\n",
              "      border: none;\n",
              "      border-radius: 50%;\n",
              "      cursor: pointer;\n",
              "      display: none;\n",
              "      fill: #1967D2;\n",
              "      height: 32px;\n",
              "      padding: 0 0 0 0;\n",
              "      width: 32px;\n",
              "    }\n",
              "\n",
              "    .colab-df-convert:hover {\n",
              "      background-color: #E2EBFA;\n",
              "      box-shadow: 0px 1px 2px rgba(60, 64, 67, 0.3), 0px 1px 3px 1px rgba(60, 64, 67, 0.15);\n",
              "      fill: #174EA6;\n",
              "    }\n",
              "\n",
              "    [theme=dark] .colab-df-convert {\n",
              "      background-color: #3B4455;\n",
              "      fill: #D2E3FC;\n",
              "    }\n",
              "\n",
              "    [theme=dark] .colab-df-convert:hover {\n",
              "      background-color: #434B5C;\n",
              "      box-shadow: 0px 1px 3px 1px rgba(0, 0, 0, 0.15);\n",
              "      filter: drop-shadow(0px 1px 2px rgba(0, 0, 0, 0.3));\n",
              "      fill: #FFFFFF;\n",
              "    }\n",
              "  </style>\n",
              "\n",
              "      <script>\n",
              "        const buttonEl =\n",
              "          document.querySelector('#df-44dcc4dd-e55d-4a82-a1a0-2b3a96777b13 button.colab-df-convert');\n",
              "        buttonEl.style.display =\n",
              "          google.colab.kernel.accessAllowed ? 'block' : 'none';\n",
              "\n",
              "        async function convertToInteractive(key) {\n",
              "          const element = document.querySelector('#df-44dcc4dd-e55d-4a82-a1a0-2b3a96777b13');\n",
              "          const dataTable =\n",
              "            await google.colab.kernel.invokeFunction('convertToInteractive',\n",
              "                                                     [key], {});\n",
              "          if (!dataTable) return;\n",
              "\n",
              "          const docLinkHtml = 'Like what you see? Visit the ' +\n",
              "            '<a target=\"_blank\" href=https://colab.research.google.com/notebooks/data_table.ipynb>data table notebook</a>'\n",
              "            + ' to learn more about interactive tables.';\n",
              "          element.innerHTML = '';\n",
              "          dataTable['output_type'] = 'display_data';\n",
              "          await google.colab.output.renderOutput(dataTable, element);\n",
              "          const docLink = document.createElement('div');\n",
              "          docLink.innerHTML = docLinkHtml;\n",
              "          element.appendChild(docLink);\n",
              "        }\n",
              "      </script>\n",
              "    </div>\n",
              "  </div>\n",
              "  "
            ]
          },
          "metadata": {},
          "execution_count": 36
        }
      ]
    },
    {
      "cell_type": "code",
      "source": [
        "df_dtrend=pd.DataFrame()\n",
        "lst=pd.DatetimeIndex(D['Date']).year.unique()\n",
        "for i in range(len(lst)):\n",
        "  df_dtrend[lst[i]]=\"\"\n",
        "lst1=[i for i in range(1,13)]\n",
        "df_dtrend[\"Month\"]=lst1\n",
        "df_dtrend.set_index(\"Month\",inplace=True)"
      ],
      "metadata": {
        "id": "B0sJn8R76Ej7"
      },
      "id": "B0sJn8R76Ej7",
      "execution_count": null,
      "outputs": []
    },
    {
      "cell_type": "code",
      "source": [
        "df=pd.DataFrame()"
      ],
      "metadata": {
        "id": "tXvjZsTTvHjC"
      },
      "id": "tXvjZsTTvHjC",
      "execution_count": null,
      "outputs": []
    },
    {
      "cell_type": "code",
      "source": [
        "lst=pd.DatetimeIndex(D['Date']).year.unique()\n",
        "for i in range(len(lst)):\n",
        "  df[lst[i]]=\"\"\n",
        "lst1=[i for i in range(1,13)]\n",
        "df[\"Month\"]=lst1\n",
        "df.set_index(\"Month\",inplace=True)\n",
        "for i in df.columns:\n",
        "  for j in range(1,13):\n",
        "    sum=0\n",
        "    for k in range(D.shape[0]):\n",
        "      if pd.DatetimeIndex(D['Date'])[k].year==i and pd.DatetimeIndex(D['Date'])[k].month==j:\n",
        "        sum=sum+Data[\"Delta2\"][k]\n",
        "    df[i][j]=sum\n"
      ],
      "metadata": {
        "id": "jIt_CLyvvPqC"
      },
      "id": "jIt_CLyvvPqC",
      "execution_count": null,
      "outputs": []
    },
    {
      "cell_type": "code",
      "source": [
        "for i in df.columns:\n",
        "  for j in range(1,13):\n",
        "    sum=0\n",
        "    for k in range(d_trend.shape[0]):\n",
        "      if pd.DatetimeIndex(D['Date'])[k].year==i and pd.DatetimeIndex(D['Date'])[k].month==j:\n",
        "        sum=sum+d_trend['Delta2'][k]\n",
        "    df_dtrend[i][j]=sum"
      ],
      "metadata": {
        "id": "Et3L_mwv_x3K"
      },
      "id": "Et3L_mwv_x3K",
      "execution_count": null,
      "outputs": []
    },
    {
      "cell_type": "code",
      "source": [
        "for i in df_dtrend.columns:\n",
        "  df_dtrend[i] = df_dtrend[i].rank(axis = 0)"
      ],
      "metadata": {
        "id": "YlTyRfirJl7r"
      },
      "id": "YlTyRfirJl7r",
      "execution_count": null,
      "outputs": []
    },
    {
      "cell_type": "code",
      "source": [
        "df_dtrend[\"Mi\"]=0.00\n",
        "df_dtrend"
      ],
      "metadata": {
        "colab": {
          "base_uri": "https://localhost:8080/",
          "height": 550
        },
        "id": "p-K9VL4gBC2w",
        "outputId": "0063f647-74a9-49f2-f746-4b09910fb25e"
      },
      "id": "p-K9VL4gBC2w",
      "execution_count": null,
      "outputs": [
        {
          "output_type": "execute_result",
          "data": {
            "text/plain": [
              "       1997  1998  1999  2000  2001  2002  2003  2004  2005  2006  ...  2012  \\\n",
              "Month                                                              ...         \n",
              "1       6.5   8.0   5.0   5.0  11.0   2.0   4.0   5.0  12.0   6.0  ...  11.0   \n",
              "2       6.5   4.0  11.0   4.0  10.0  12.0   5.0  11.0   9.0   2.0  ...   1.0   \n",
              "3       6.5   9.0   1.0   9.0   1.0   3.0  10.0  12.0   1.0  11.0  ...   7.0   \n",
              "4       6.5   5.0   3.0  11.0  12.0   4.0   6.0   4.0  11.0   7.0  ...   4.0   \n",
              "5      12.0   6.0   8.0  10.0   2.0   7.0   2.0   9.0   8.0  10.0  ...   6.0   \n",
              "6       2.0  12.0   9.0   2.0   7.0   1.0  12.0   1.0   2.0   3.0  ...   8.0   \n",
              "7       9.0   1.0   7.0   6.0   4.0  11.0   1.0   8.0   4.0   4.0  ...   2.0   \n",
              "8       4.0  10.0   2.0   7.0   5.0   8.0  11.0   6.0   3.0  12.0  ...  10.0   \n",
              "9       1.0   2.0  12.0   8.0   9.0  10.0   8.0   7.0  10.0   1.0  ...   5.0   \n",
              "10     11.0   7.0   6.0  12.0   3.0   5.0   9.0  10.0   6.0   8.0  ...   9.0   \n",
              "11     10.0  11.0   4.0   3.0   6.0   6.0   3.0   2.0   5.0   5.0  ...   3.0   \n",
              "12      3.0   3.0  10.0   1.0   8.0   9.0   7.0   3.0   7.0   9.0  ...  12.0   \n",
              "\n",
              "       2013  2014  2015  2016  2017  2018  2019  2020   Mi  \n",
              "Month                                                       \n",
              "1       1.0   3.0  12.0   6.0   8.0   7.0   1.0   8.0  0.0  \n",
              "2      12.0  11.0   2.0  12.0   4.0   1.0  10.0  10.0  0.0  \n",
              "3       3.0   8.0   3.0   1.0   7.0   8.0   7.0   1.0  0.0  \n",
              "4       5.0   6.0   9.0   8.0  11.0  10.0   5.0   2.0  0.0  \n",
              "5       9.0   1.0   7.0   3.0   1.0   5.0   4.0  11.0  0.0  \n",
              "6      10.0  12.0   6.0  10.0   3.0   9.0  11.0  12.0  0.0  \n",
              "7       6.0   2.0   4.0   4.0  12.0   3.0   6.0   9.0  0.0  \n",
              "8       8.0  10.0  11.0   5.0   2.0   6.0  12.0   5.0  0.0  \n",
              "9       7.0   5.0   5.0   7.0   6.0   4.0   3.0   5.0  0.0  \n",
              "10      2.0   7.0   8.0   2.0   5.0  11.0   8.0   5.0  0.0  \n",
              "11      4.0   4.0  10.0   9.0   9.0   2.0   2.0   5.0  0.0  \n",
              "12     11.0   9.0   1.0  11.0  10.0  12.0   9.0   5.0  0.0  \n",
              "\n",
              "[12 rows x 25 columns]"
            ],
            "text/html": [
              "\n",
              "  <div id=\"df-5f3c2b31-3a15-472d-a7d6-49f4a41fa4c1\">\n",
              "    <div class=\"colab-df-container\">\n",
              "      <div>\n",
              "<style scoped>\n",
              "    .dataframe tbody tr th:only-of-type {\n",
              "        vertical-align: middle;\n",
              "    }\n",
              "\n",
              "    .dataframe tbody tr th {\n",
              "        vertical-align: top;\n",
              "    }\n",
              "\n",
              "    .dataframe thead th {\n",
              "        text-align: right;\n",
              "    }\n",
              "</style>\n",
              "<table border=\"1\" class=\"dataframe\">\n",
              "  <thead>\n",
              "    <tr style=\"text-align: right;\">\n",
              "      <th></th>\n",
              "      <th>1997</th>\n",
              "      <th>1998</th>\n",
              "      <th>1999</th>\n",
              "      <th>2000</th>\n",
              "      <th>2001</th>\n",
              "      <th>2002</th>\n",
              "      <th>2003</th>\n",
              "      <th>2004</th>\n",
              "      <th>2005</th>\n",
              "      <th>2006</th>\n",
              "      <th>...</th>\n",
              "      <th>2012</th>\n",
              "      <th>2013</th>\n",
              "      <th>2014</th>\n",
              "      <th>2015</th>\n",
              "      <th>2016</th>\n",
              "      <th>2017</th>\n",
              "      <th>2018</th>\n",
              "      <th>2019</th>\n",
              "      <th>2020</th>\n",
              "      <th>Mi</th>\n",
              "    </tr>\n",
              "    <tr>\n",
              "      <th>Month</th>\n",
              "      <th></th>\n",
              "      <th></th>\n",
              "      <th></th>\n",
              "      <th></th>\n",
              "      <th></th>\n",
              "      <th></th>\n",
              "      <th></th>\n",
              "      <th></th>\n",
              "      <th></th>\n",
              "      <th></th>\n",
              "      <th></th>\n",
              "      <th></th>\n",
              "      <th></th>\n",
              "      <th></th>\n",
              "      <th></th>\n",
              "      <th></th>\n",
              "      <th></th>\n",
              "      <th></th>\n",
              "      <th></th>\n",
              "      <th></th>\n",
              "      <th></th>\n",
              "    </tr>\n",
              "  </thead>\n",
              "  <tbody>\n",
              "    <tr>\n",
              "      <th>1</th>\n",
              "      <td>6.5</td>\n",
              "      <td>8.0</td>\n",
              "      <td>5.0</td>\n",
              "      <td>5.0</td>\n",
              "      <td>11.0</td>\n",
              "      <td>2.0</td>\n",
              "      <td>4.0</td>\n",
              "      <td>5.0</td>\n",
              "      <td>12.0</td>\n",
              "      <td>6.0</td>\n",
              "      <td>...</td>\n",
              "      <td>11.0</td>\n",
              "      <td>1.0</td>\n",
              "      <td>3.0</td>\n",
              "      <td>12.0</td>\n",
              "      <td>6.0</td>\n",
              "      <td>8.0</td>\n",
              "      <td>7.0</td>\n",
              "      <td>1.0</td>\n",
              "      <td>8.0</td>\n",
              "      <td>0.0</td>\n",
              "    </tr>\n",
              "    <tr>\n",
              "      <th>2</th>\n",
              "      <td>6.5</td>\n",
              "      <td>4.0</td>\n",
              "      <td>11.0</td>\n",
              "      <td>4.0</td>\n",
              "      <td>10.0</td>\n",
              "      <td>12.0</td>\n",
              "      <td>5.0</td>\n",
              "      <td>11.0</td>\n",
              "      <td>9.0</td>\n",
              "      <td>2.0</td>\n",
              "      <td>...</td>\n",
              "      <td>1.0</td>\n",
              "      <td>12.0</td>\n",
              "      <td>11.0</td>\n",
              "      <td>2.0</td>\n",
              "      <td>12.0</td>\n",
              "      <td>4.0</td>\n",
              "      <td>1.0</td>\n",
              "      <td>10.0</td>\n",
              "      <td>10.0</td>\n",
              "      <td>0.0</td>\n",
              "    </tr>\n",
              "    <tr>\n",
              "      <th>3</th>\n",
              "      <td>6.5</td>\n",
              "      <td>9.0</td>\n",
              "      <td>1.0</td>\n",
              "      <td>9.0</td>\n",
              "      <td>1.0</td>\n",
              "      <td>3.0</td>\n",
              "      <td>10.0</td>\n",
              "      <td>12.0</td>\n",
              "      <td>1.0</td>\n",
              "      <td>11.0</td>\n",
              "      <td>...</td>\n",
              "      <td>7.0</td>\n",
              "      <td>3.0</td>\n",
              "      <td>8.0</td>\n",
              "      <td>3.0</td>\n",
              "      <td>1.0</td>\n",
              "      <td>7.0</td>\n",
              "      <td>8.0</td>\n",
              "      <td>7.0</td>\n",
              "      <td>1.0</td>\n",
              "      <td>0.0</td>\n",
              "    </tr>\n",
              "    <tr>\n",
              "      <th>4</th>\n",
              "      <td>6.5</td>\n",
              "      <td>5.0</td>\n",
              "      <td>3.0</td>\n",
              "      <td>11.0</td>\n",
              "      <td>12.0</td>\n",
              "      <td>4.0</td>\n",
              "      <td>6.0</td>\n",
              "      <td>4.0</td>\n",
              "      <td>11.0</td>\n",
              "      <td>7.0</td>\n",
              "      <td>...</td>\n",
              "      <td>4.0</td>\n",
              "      <td>5.0</td>\n",
              "      <td>6.0</td>\n",
              "      <td>9.0</td>\n",
              "      <td>8.0</td>\n",
              "      <td>11.0</td>\n",
              "      <td>10.0</td>\n",
              "      <td>5.0</td>\n",
              "      <td>2.0</td>\n",
              "      <td>0.0</td>\n",
              "    </tr>\n",
              "    <tr>\n",
              "      <th>5</th>\n",
              "      <td>12.0</td>\n",
              "      <td>6.0</td>\n",
              "      <td>8.0</td>\n",
              "      <td>10.0</td>\n",
              "      <td>2.0</td>\n",
              "      <td>7.0</td>\n",
              "      <td>2.0</td>\n",
              "      <td>9.0</td>\n",
              "      <td>8.0</td>\n",
              "      <td>10.0</td>\n",
              "      <td>...</td>\n",
              "      <td>6.0</td>\n",
              "      <td>9.0</td>\n",
              "      <td>1.0</td>\n",
              "      <td>7.0</td>\n",
              "      <td>3.0</td>\n",
              "      <td>1.0</td>\n",
              "      <td>5.0</td>\n",
              "      <td>4.0</td>\n",
              "      <td>11.0</td>\n",
              "      <td>0.0</td>\n",
              "    </tr>\n",
              "    <tr>\n",
              "      <th>6</th>\n",
              "      <td>2.0</td>\n",
              "      <td>12.0</td>\n",
              "      <td>9.0</td>\n",
              "      <td>2.0</td>\n",
              "      <td>7.0</td>\n",
              "      <td>1.0</td>\n",
              "      <td>12.0</td>\n",
              "      <td>1.0</td>\n",
              "      <td>2.0</td>\n",
              "      <td>3.0</td>\n",
              "      <td>...</td>\n",
              "      <td>8.0</td>\n",
              "      <td>10.0</td>\n",
              "      <td>12.0</td>\n",
              "      <td>6.0</td>\n",
              "      <td>10.0</td>\n",
              "      <td>3.0</td>\n",
              "      <td>9.0</td>\n",
              "      <td>11.0</td>\n",
              "      <td>12.0</td>\n",
              "      <td>0.0</td>\n",
              "    </tr>\n",
              "    <tr>\n",
              "      <th>7</th>\n",
              "      <td>9.0</td>\n",
              "      <td>1.0</td>\n",
              "      <td>7.0</td>\n",
              "      <td>6.0</td>\n",
              "      <td>4.0</td>\n",
              "      <td>11.0</td>\n",
              "      <td>1.0</td>\n",
              "      <td>8.0</td>\n",
              "      <td>4.0</td>\n",
              "      <td>4.0</td>\n",
              "      <td>...</td>\n",
              "      <td>2.0</td>\n",
              "      <td>6.0</td>\n",
              "      <td>2.0</td>\n",
              "      <td>4.0</td>\n",
              "      <td>4.0</td>\n",
              "      <td>12.0</td>\n",
              "      <td>3.0</td>\n",
              "      <td>6.0</td>\n",
              "      <td>9.0</td>\n",
              "      <td>0.0</td>\n",
              "    </tr>\n",
              "    <tr>\n",
              "      <th>8</th>\n",
              "      <td>4.0</td>\n",
              "      <td>10.0</td>\n",
              "      <td>2.0</td>\n",
              "      <td>7.0</td>\n",
              "      <td>5.0</td>\n",
              "      <td>8.0</td>\n",
              "      <td>11.0</td>\n",
              "      <td>6.0</td>\n",
              "      <td>3.0</td>\n",
              "      <td>12.0</td>\n",
              "      <td>...</td>\n",
              "      <td>10.0</td>\n",
              "      <td>8.0</td>\n",
              "      <td>10.0</td>\n",
              "      <td>11.0</td>\n",
              "      <td>5.0</td>\n",
              "      <td>2.0</td>\n",
              "      <td>6.0</td>\n",
              "      <td>12.0</td>\n",
              "      <td>5.0</td>\n",
              "      <td>0.0</td>\n",
              "    </tr>\n",
              "    <tr>\n",
              "      <th>9</th>\n",
              "      <td>1.0</td>\n",
              "      <td>2.0</td>\n",
              "      <td>12.0</td>\n",
              "      <td>8.0</td>\n",
              "      <td>9.0</td>\n",
              "      <td>10.0</td>\n",
              "      <td>8.0</td>\n",
              "      <td>7.0</td>\n",
              "      <td>10.0</td>\n",
              "      <td>1.0</td>\n",
              "      <td>...</td>\n",
              "      <td>5.0</td>\n",
              "      <td>7.0</td>\n",
              "      <td>5.0</td>\n",
              "      <td>5.0</td>\n",
              "      <td>7.0</td>\n",
              "      <td>6.0</td>\n",
              "      <td>4.0</td>\n",
              "      <td>3.0</td>\n",
              "      <td>5.0</td>\n",
              "      <td>0.0</td>\n",
              "    </tr>\n",
              "    <tr>\n",
              "      <th>10</th>\n",
              "      <td>11.0</td>\n",
              "      <td>7.0</td>\n",
              "      <td>6.0</td>\n",
              "      <td>12.0</td>\n",
              "      <td>3.0</td>\n",
              "      <td>5.0</td>\n",
              "      <td>9.0</td>\n",
              "      <td>10.0</td>\n",
              "      <td>6.0</td>\n",
              "      <td>8.0</td>\n",
              "      <td>...</td>\n",
              "      <td>9.0</td>\n",
              "      <td>2.0</td>\n",
              "      <td>7.0</td>\n",
              "      <td>8.0</td>\n",
              "      <td>2.0</td>\n",
              "      <td>5.0</td>\n",
              "      <td>11.0</td>\n",
              "      <td>8.0</td>\n",
              "      <td>5.0</td>\n",
              "      <td>0.0</td>\n",
              "    </tr>\n",
              "    <tr>\n",
              "      <th>11</th>\n",
              "      <td>10.0</td>\n",
              "      <td>11.0</td>\n",
              "      <td>4.0</td>\n",
              "      <td>3.0</td>\n",
              "      <td>6.0</td>\n",
              "      <td>6.0</td>\n",
              "      <td>3.0</td>\n",
              "      <td>2.0</td>\n",
              "      <td>5.0</td>\n",
              "      <td>5.0</td>\n",
              "      <td>...</td>\n",
              "      <td>3.0</td>\n",
              "      <td>4.0</td>\n",
              "      <td>4.0</td>\n",
              "      <td>10.0</td>\n",
              "      <td>9.0</td>\n",
              "      <td>9.0</td>\n",
              "      <td>2.0</td>\n",
              "      <td>2.0</td>\n",
              "      <td>5.0</td>\n",
              "      <td>0.0</td>\n",
              "    </tr>\n",
              "    <tr>\n",
              "      <th>12</th>\n",
              "      <td>3.0</td>\n",
              "      <td>3.0</td>\n",
              "      <td>10.0</td>\n",
              "      <td>1.0</td>\n",
              "      <td>8.0</td>\n",
              "      <td>9.0</td>\n",
              "      <td>7.0</td>\n",
              "      <td>3.0</td>\n",
              "      <td>7.0</td>\n",
              "      <td>9.0</td>\n",
              "      <td>...</td>\n",
              "      <td>12.0</td>\n",
              "      <td>11.0</td>\n",
              "      <td>9.0</td>\n",
              "      <td>1.0</td>\n",
              "      <td>11.0</td>\n",
              "      <td>10.0</td>\n",
              "      <td>12.0</td>\n",
              "      <td>9.0</td>\n",
              "      <td>5.0</td>\n",
              "      <td>0.0</td>\n",
              "    </tr>\n",
              "  </tbody>\n",
              "</table>\n",
              "<p>12 rows × 25 columns</p>\n",
              "</div>\n",
              "      <button class=\"colab-df-convert\" onclick=\"convertToInteractive('df-5f3c2b31-3a15-472d-a7d6-49f4a41fa4c1')\"\n",
              "              title=\"Convert this dataframe to an interactive table.\"\n",
              "              style=\"display:none;\">\n",
              "        \n",
              "  <svg xmlns=\"http://www.w3.org/2000/svg\" height=\"24px\"viewBox=\"0 0 24 24\"\n",
              "       width=\"24px\">\n",
              "    <path d=\"M0 0h24v24H0V0z\" fill=\"none\"/>\n",
              "    <path d=\"M18.56 5.44l.94 2.06.94-2.06 2.06-.94-2.06-.94-.94-2.06-.94 2.06-2.06.94zm-11 1L8.5 8.5l.94-2.06 2.06-.94-2.06-.94L8.5 2.5l-.94 2.06-2.06.94zm10 10l.94 2.06.94-2.06 2.06-.94-2.06-.94-.94-2.06-.94 2.06-2.06.94z\"/><path d=\"M17.41 7.96l-1.37-1.37c-.4-.4-.92-.59-1.43-.59-.52 0-1.04.2-1.43.59L10.3 9.45l-7.72 7.72c-.78.78-.78 2.05 0 2.83L4 21.41c.39.39.9.59 1.41.59.51 0 1.02-.2 1.41-.59l7.78-7.78 2.81-2.81c.8-.78.8-2.07 0-2.86zM5.41 20L4 18.59l7.72-7.72 1.47 1.35L5.41 20z\"/>\n",
              "  </svg>\n",
              "      </button>\n",
              "      \n",
              "  <style>\n",
              "    .colab-df-container {\n",
              "      display:flex;\n",
              "      flex-wrap:wrap;\n",
              "      gap: 12px;\n",
              "    }\n",
              "\n",
              "    .colab-df-convert {\n",
              "      background-color: #E8F0FE;\n",
              "      border: none;\n",
              "      border-radius: 50%;\n",
              "      cursor: pointer;\n",
              "      display: none;\n",
              "      fill: #1967D2;\n",
              "      height: 32px;\n",
              "      padding: 0 0 0 0;\n",
              "      width: 32px;\n",
              "    }\n",
              "\n",
              "    .colab-df-convert:hover {\n",
              "      background-color: #E2EBFA;\n",
              "      box-shadow: 0px 1px 2px rgba(60, 64, 67, 0.3), 0px 1px 3px 1px rgba(60, 64, 67, 0.15);\n",
              "      fill: #174EA6;\n",
              "    }\n",
              "\n",
              "    [theme=dark] .colab-df-convert {\n",
              "      background-color: #3B4455;\n",
              "      fill: #D2E3FC;\n",
              "    }\n",
              "\n",
              "    [theme=dark] .colab-df-convert:hover {\n",
              "      background-color: #434B5C;\n",
              "      box-shadow: 0px 1px 3px 1px rgba(0, 0, 0, 0.15);\n",
              "      filter: drop-shadow(0px 1px 2px rgba(0, 0, 0, 0.3));\n",
              "      fill: #FFFFFF;\n",
              "    }\n",
              "  </style>\n",
              "\n",
              "      <script>\n",
              "        const buttonEl =\n",
              "          document.querySelector('#df-5f3c2b31-3a15-472d-a7d6-49f4a41fa4c1 button.colab-df-convert');\n",
              "        buttonEl.style.display =\n",
              "          google.colab.kernel.accessAllowed ? 'block' : 'none';\n",
              "\n",
              "        async function convertToInteractive(key) {\n",
              "          const element = document.querySelector('#df-5f3c2b31-3a15-472d-a7d6-49f4a41fa4c1');\n",
              "          const dataTable =\n",
              "            await google.colab.kernel.invokeFunction('convertToInteractive',\n",
              "                                                     [key], {});\n",
              "          if (!dataTable) return;\n",
              "\n",
              "          const docLinkHtml = 'Like what you see? Visit the ' +\n",
              "            '<a target=\"_blank\" href=https://colab.research.google.com/notebooks/data_table.ipynb>data table notebook</a>'\n",
              "            + ' to learn more about interactive tables.';\n",
              "          element.innerHTML = '';\n",
              "          dataTable['output_type'] = 'display_data';\n",
              "          await google.colab.output.renderOutput(dataTable, element);\n",
              "          const docLink = document.createElement('div');\n",
              "          docLink.innerHTML = docLinkHtml;\n",
              "          element.appendChild(docLink);\n",
              "        }\n",
              "      </script>\n",
              "    </div>\n",
              "  </div>\n",
              "  "
            ]
          },
          "metadata": {},
          "execution_count": 42
        }
      ]
    },
    {
      "cell_type": "code",
      "source": [
        "\n",
        "for j in range(1,13):\n",
        "\n",
        "  df_dtrend[\"Mi\"][j]=df_dtrend.iloc[j-1,:].sum()"
      ],
      "metadata": {
        "id": "pU5aq4YJEERI"
      },
      "id": "pU5aq4YJEERI",
      "execution_count": null,
      "outputs": []
    },
    {
      "cell_type": "code",
      "source": [
        "df_dtrend"
      ],
      "metadata": {
        "colab": {
          "base_uri": "https://localhost:8080/",
          "height": 550
        },
        "id": "NaFTpRUyFwBE",
        "outputId": "2fb17b4f-9db7-4b45-c10f-640552caf2a9"
      },
      "id": "NaFTpRUyFwBE",
      "execution_count": null,
      "outputs": [
        {
          "output_type": "execute_result",
          "data": {
            "text/plain": [
              "       1997  1998  1999  2000  2001  2002  2003  2004  2005  2006  ...  2012  \\\n",
              "Month                                                              ...         \n",
              "1       6.5   8.0   5.0   5.0  11.0   2.0   4.0   5.0  12.0   6.0  ...  11.0   \n",
              "2       6.5   4.0  11.0   4.0  10.0  12.0   5.0  11.0   9.0   2.0  ...   1.0   \n",
              "3       6.5   9.0   1.0   9.0   1.0   3.0  10.0  12.0   1.0  11.0  ...   7.0   \n",
              "4       6.5   5.0   3.0  11.0  12.0   4.0   6.0   4.0  11.0   7.0  ...   4.0   \n",
              "5      12.0   6.0   8.0  10.0   2.0   7.0   2.0   9.0   8.0  10.0  ...   6.0   \n",
              "6       2.0  12.0   9.0   2.0   7.0   1.0  12.0   1.0   2.0   3.0  ...   8.0   \n",
              "7       9.0   1.0   7.0   6.0   4.0  11.0   1.0   8.0   4.0   4.0  ...   2.0   \n",
              "8       4.0  10.0   2.0   7.0   5.0   8.0  11.0   6.0   3.0  12.0  ...  10.0   \n",
              "9       1.0   2.0  12.0   8.0   9.0  10.0   8.0   7.0  10.0   1.0  ...   5.0   \n",
              "10     11.0   7.0   6.0  12.0   3.0   5.0   9.0  10.0   6.0   8.0  ...   9.0   \n",
              "11     10.0  11.0   4.0   3.0   6.0   6.0   3.0   2.0   5.0   5.0  ...   3.0   \n",
              "12      3.0   3.0  10.0   1.0   8.0   9.0   7.0   3.0   7.0   9.0  ...  12.0   \n",
              "\n",
              "       2013  2014  2015  2016  2017  2018  2019  2020     Mi  \n",
              "Month                                                         \n",
              "1       1.0   3.0  12.0   6.0   8.0   7.0   1.0   8.0  136.5  \n",
              "2      12.0  11.0   2.0  12.0   4.0   1.0  10.0  10.0  167.5  \n",
              "3       3.0   8.0   3.0   1.0   7.0   8.0   7.0   1.0  151.5  \n",
              "4       5.0   6.0   9.0   8.0  11.0  10.0   5.0   2.0  162.5  \n",
              "5       9.0   1.0   7.0   3.0   1.0   5.0   4.0  11.0  148.0  \n",
              "6      10.0  12.0   6.0  10.0   3.0   9.0  11.0  12.0  172.0  \n",
              "7       6.0   2.0   4.0   4.0  12.0   3.0   6.0   9.0  125.0  \n",
              "8       8.0  10.0  11.0   5.0   2.0   6.0  12.0   5.0  175.0  \n",
              "9       7.0   5.0   5.0   7.0   6.0   4.0   3.0   5.0  135.0  \n",
              "10      2.0   7.0   8.0   2.0   5.0  11.0   8.0   5.0  180.0  \n",
              "11      4.0   4.0  10.0   9.0   9.0   2.0   2.0   5.0  136.0  \n",
              "12     11.0   9.0   1.0  11.0  10.0  12.0   9.0   5.0  183.0  \n",
              "\n",
              "[12 rows x 25 columns]"
            ],
            "text/html": [
              "\n",
              "  <div id=\"df-e7404b37-4348-4ecd-88dd-a59ae368f6cf\">\n",
              "    <div class=\"colab-df-container\">\n",
              "      <div>\n",
              "<style scoped>\n",
              "    .dataframe tbody tr th:only-of-type {\n",
              "        vertical-align: middle;\n",
              "    }\n",
              "\n",
              "    .dataframe tbody tr th {\n",
              "        vertical-align: top;\n",
              "    }\n",
              "\n",
              "    .dataframe thead th {\n",
              "        text-align: right;\n",
              "    }\n",
              "</style>\n",
              "<table border=\"1\" class=\"dataframe\">\n",
              "  <thead>\n",
              "    <tr style=\"text-align: right;\">\n",
              "      <th></th>\n",
              "      <th>1997</th>\n",
              "      <th>1998</th>\n",
              "      <th>1999</th>\n",
              "      <th>2000</th>\n",
              "      <th>2001</th>\n",
              "      <th>2002</th>\n",
              "      <th>2003</th>\n",
              "      <th>2004</th>\n",
              "      <th>2005</th>\n",
              "      <th>2006</th>\n",
              "      <th>...</th>\n",
              "      <th>2012</th>\n",
              "      <th>2013</th>\n",
              "      <th>2014</th>\n",
              "      <th>2015</th>\n",
              "      <th>2016</th>\n",
              "      <th>2017</th>\n",
              "      <th>2018</th>\n",
              "      <th>2019</th>\n",
              "      <th>2020</th>\n",
              "      <th>Mi</th>\n",
              "    </tr>\n",
              "    <tr>\n",
              "      <th>Month</th>\n",
              "      <th></th>\n",
              "      <th></th>\n",
              "      <th></th>\n",
              "      <th></th>\n",
              "      <th></th>\n",
              "      <th></th>\n",
              "      <th></th>\n",
              "      <th></th>\n",
              "      <th></th>\n",
              "      <th></th>\n",
              "      <th></th>\n",
              "      <th></th>\n",
              "      <th></th>\n",
              "      <th></th>\n",
              "      <th></th>\n",
              "      <th></th>\n",
              "      <th></th>\n",
              "      <th></th>\n",
              "      <th></th>\n",
              "      <th></th>\n",
              "      <th></th>\n",
              "    </tr>\n",
              "  </thead>\n",
              "  <tbody>\n",
              "    <tr>\n",
              "      <th>1</th>\n",
              "      <td>6.5</td>\n",
              "      <td>8.0</td>\n",
              "      <td>5.0</td>\n",
              "      <td>5.0</td>\n",
              "      <td>11.0</td>\n",
              "      <td>2.0</td>\n",
              "      <td>4.0</td>\n",
              "      <td>5.0</td>\n",
              "      <td>12.0</td>\n",
              "      <td>6.0</td>\n",
              "      <td>...</td>\n",
              "      <td>11.0</td>\n",
              "      <td>1.0</td>\n",
              "      <td>3.0</td>\n",
              "      <td>12.0</td>\n",
              "      <td>6.0</td>\n",
              "      <td>8.0</td>\n",
              "      <td>7.0</td>\n",
              "      <td>1.0</td>\n",
              "      <td>8.0</td>\n",
              "      <td>136.5</td>\n",
              "    </tr>\n",
              "    <tr>\n",
              "      <th>2</th>\n",
              "      <td>6.5</td>\n",
              "      <td>4.0</td>\n",
              "      <td>11.0</td>\n",
              "      <td>4.0</td>\n",
              "      <td>10.0</td>\n",
              "      <td>12.0</td>\n",
              "      <td>5.0</td>\n",
              "      <td>11.0</td>\n",
              "      <td>9.0</td>\n",
              "      <td>2.0</td>\n",
              "      <td>...</td>\n",
              "      <td>1.0</td>\n",
              "      <td>12.0</td>\n",
              "      <td>11.0</td>\n",
              "      <td>2.0</td>\n",
              "      <td>12.0</td>\n",
              "      <td>4.0</td>\n",
              "      <td>1.0</td>\n",
              "      <td>10.0</td>\n",
              "      <td>10.0</td>\n",
              "      <td>167.5</td>\n",
              "    </tr>\n",
              "    <tr>\n",
              "      <th>3</th>\n",
              "      <td>6.5</td>\n",
              "      <td>9.0</td>\n",
              "      <td>1.0</td>\n",
              "      <td>9.0</td>\n",
              "      <td>1.0</td>\n",
              "      <td>3.0</td>\n",
              "      <td>10.0</td>\n",
              "      <td>12.0</td>\n",
              "      <td>1.0</td>\n",
              "      <td>11.0</td>\n",
              "      <td>...</td>\n",
              "      <td>7.0</td>\n",
              "      <td>3.0</td>\n",
              "      <td>8.0</td>\n",
              "      <td>3.0</td>\n",
              "      <td>1.0</td>\n",
              "      <td>7.0</td>\n",
              "      <td>8.0</td>\n",
              "      <td>7.0</td>\n",
              "      <td>1.0</td>\n",
              "      <td>151.5</td>\n",
              "    </tr>\n",
              "    <tr>\n",
              "      <th>4</th>\n",
              "      <td>6.5</td>\n",
              "      <td>5.0</td>\n",
              "      <td>3.0</td>\n",
              "      <td>11.0</td>\n",
              "      <td>12.0</td>\n",
              "      <td>4.0</td>\n",
              "      <td>6.0</td>\n",
              "      <td>4.0</td>\n",
              "      <td>11.0</td>\n",
              "      <td>7.0</td>\n",
              "      <td>...</td>\n",
              "      <td>4.0</td>\n",
              "      <td>5.0</td>\n",
              "      <td>6.0</td>\n",
              "      <td>9.0</td>\n",
              "      <td>8.0</td>\n",
              "      <td>11.0</td>\n",
              "      <td>10.0</td>\n",
              "      <td>5.0</td>\n",
              "      <td>2.0</td>\n",
              "      <td>162.5</td>\n",
              "    </tr>\n",
              "    <tr>\n",
              "      <th>5</th>\n",
              "      <td>12.0</td>\n",
              "      <td>6.0</td>\n",
              "      <td>8.0</td>\n",
              "      <td>10.0</td>\n",
              "      <td>2.0</td>\n",
              "      <td>7.0</td>\n",
              "      <td>2.0</td>\n",
              "      <td>9.0</td>\n",
              "      <td>8.0</td>\n",
              "      <td>10.0</td>\n",
              "      <td>...</td>\n",
              "      <td>6.0</td>\n",
              "      <td>9.0</td>\n",
              "      <td>1.0</td>\n",
              "      <td>7.0</td>\n",
              "      <td>3.0</td>\n",
              "      <td>1.0</td>\n",
              "      <td>5.0</td>\n",
              "      <td>4.0</td>\n",
              "      <td>11.0</td>\n",
              "      <td>148.0</td>\n",
              "    </tr>\n",
              "    <tr>\n",
              "      <th>6</th>\n",
              "      <td>2.0</td>\n",
              "      <td>12.0</td>\n",
              "      <td>9.0</td>\n",
              "      <td>2.0</td>\n",
              "      <td>7.0</td>\n",
              "      <td>1.0</td>\n",
              "      <td>12.0</td>\n",
              "      <td>1.0</td>\n",
              "      <td>2.0</td>\n",
              "      <td>3.0</td>\n",
              "      <td>...</td>\n",
              "      <td>8.0</td>\n",
              "      <td>10.0</td>\n",
              "      <td>12.0</td>\n",
              "      <td>6.0</td>\n",
              "      <td>10.0</td>\n",
              "      <td>3.0</td>\n",
              "      <td>9.0</td>\n",
              "      <td>11.0</td>\n",
              "      <td>12.0</td>\n",
              "      <td>172.0</td>\n",
              "    </tr>\n",
              "    <tr>\n",
              "      <th>7</th>\n",
              "      <td>9.0</td>\n",
              "      <td>1.0</td>\n",
              "      <td>7.0</td>\n",
              "      <td>6.0</td>\n",
              "      <td>4.0</td>\n",
              "      <td>11.0</td>\n",
              "      <td>1.0</td>\n",
              "      <td>8.0</td>\n",
              "      <td>4.0</td>\n",
              "      <td>4.0</td>\n",
              "      <td>...</td>\n",
              "      <td>2.0</td>\n",
              "      <td>6.0</td>\n",
              "      <td>2.0</td>\n",
              "      <td>4.0</td>\n",
              "      <td>4.0</td>\n",
              "      <td>12.0</td>\n",
              "      <td>3.0</td>\n",
              "      <td>6.0</td>\n",
              "      <td>9.0</td>\n",
              "      <td>125.0</td>\n",
              "    </tr>\n",
              "    <tr>\n",
              "      <th>8</th>\n",
              "      <td>4.0</td>\n",
              "      <td>10.0</td>\n",
              "      <td>2.0</td>\n",
              "      <td>7.0</td>\n",
              "      <td>5.0</td>\n",
              "      <td>8.0</td>\n",
              "      <td>11.0</td>\n",
              "      <td>6.0</td>\n",
              "      <td>3.0</td>\n",
              "      <td>12.0</td>\n",
              "      <td>...</td>\n",
              "      <td>10.0</td>\n",
              "      <td>8.0</td>\n",
              "      <td>10.0</td>\n",
              "      <td>11.0</td>\n",
              "      <td>5.0</td>\n",
              "      <td>2.0</td>\n",
              "      <td>6.0</td>\n",
              "      <td>12.0</td>\n",
              "      <td>5.0</td>\n",
              "      <td>175.0</td>\n",
              "    </tr>\n",
              "    <tr>\n",
              "      <th>9</th>\n",
              "      <td>1.0</td>\n",
              "      <td>2.0</td>\n",
              "      <td>12.0</td>\n",
              "      <td>8.0</td>\n",
              "      <td>9.0</td>\n",
              "      <td>10.0</td>\n",
              "      <td>8.0</td>\n",
              "      <td>7.0</td>\n",
              "      <td>10.0</td>\n",
              "      <td>1.0</td>\n",
              "      <td>...</td>\n",
              "      <td>5.0</td>\n",
              "      <td>7.0</td>\n",
              "      <td>5.0</td>\n",
              "      <td>5.0</td>\n",
              "      <td>7.0</td>\n",
              "      <td>6.0</td>\n",
              "      <td>4.0</td>\n",
              "      <td>3.0</td>\n",
              "      <td>5.0</td>\n",
              "      <td>135.0</td>\n",
              "    </tr>\n",
              "    <tr>\n",
              "      <th>10</th>\n",
              "      <td>11.0</td>\n",
              "      <td>7.0</td>\n",
              "      <td>6.0</td>\n",
              "      <td>12.0</td>\n",
              "      <td>3.0</td>\n",
              "      <td>5.0</td>\n",
              "      <td>9.0</td>\n",
              "      <td>10.0</td>\n",
              "      <td>6.0</td>\n",
              "      <td>8.0</td>\n",
              "      <td>...</td>\n",
              "      <td>9.0</td>\n",
              "      <td>2.0</td>\n",
              "      <td>7.0</td>\n",
              "      <td>8.0</td>\n",
              "      <td>2.0</td>\n",
              "      <td>5.0</td>\n",
              "      <td>11.0</td>\n",
              "      <td>8.0</td>\n",
              "      <td>5.0</td>\n",
              "      <td>180.0</td>\n",
              "    </tr>\n",
              "    <tr>\n",
              "      <th>11</th>\n",
              "      <td>10.0</td>\n",
              "      <td>11.0</td>\n",
              "      <td>4.0</td>\n",
              "      <td>3.0</td>\n",
              "      <td>6.0</td>\n",
              "      <td>6.0</td>\n",
              "      <td>3.0</td>\n",
              "      <td>2.0</td>\n",
              "      <td>5.0</td>\n",
              "      <td>5.0</td>\n",
              "      <td>...</td>\n",
              "      <td>3.0</td>\n",
              "      <td>4.0</td>\n",
              "      <td>4.0</td>\n",
              "      <td>10.0</td>\n",
              "      <td>9.0</td>\n",
              "      <td>9.0</td>\n",
              "      <td>2.0</td>\n",
              "      <td>2.0</td>\n",
              "      <td>5.0</td>\n",
              "      <td>136.0</td>\n",
              "    </tr>\n",
              "    <tr>\n",
              "      <th>12</th>\n",
              "      <td>3.0</td>\n",
              "      <td>3.0</td>\n",
              "      <td>10.0</td>\n",
              "      <td>1.0</td>\n",
              "      <td>8.0</td>\n",
              "      <td>9.0</td>\n",
              "      <td>7.0</td>\n",
              "      <td>3.0</td>\n",
              "      <td>7.0</td>\n",
              "      <td>9.0</td>\n",
              "      <td>...</td>\n",
              "      <td>12.0</td>\n",
              "      <td>11.0</td>\n",
              "      <td>9.0</td>\n",
              "      <td>1.0</td>\n",
              "      <td>11.0</td>\n",
              "      <td>10.0</td>\n",
              "      <td>12.0</td>\n",
              "      <td>9.0</td>\n",
              "      <td>5.0</td>\n",
              "      <td>183.0</td>\n",
              "    </tr>\n",
              "  </tbody>\n",
              "</table>\n",
              "<p>12 rows × 25 columns</p>\n",
              "</div>\n",
              "      <button class=\"colab-df-convert\" onclick=\"convertToInteractive('df-e7404b37-4348-4ecd-88dd-a59ae368f6cf')\"\n",
              "              title=\"Convert this dataframe to an interactive table.\"\n",
              "              style=\"display:none;\">\n",
              "        \n",
              "  <svg xmlns=\"http://www.w3.org/2000/svg\" height=\"24px\"viewBox=\"0 0 24 24\"\n",
              "       width=\"24px\">\n",
              "    <path d=\"M0 0h24v24H0V0z\" fill=\"none\"/>\n",
              "    <path d=\"M18.56 5.44l.94 2.06.94-2.06 2.06-.94-2.06-.94-.94-2.06-.94 2.06-2.06.94zm-11 1L8.5 8.5l.94-2.06 2.06-.94-2.06-.94L8.5 2.5l-.94 2.06-2.06.94zm10 10l.94 2.06.94-2.06 2.06-.94-2.06-.94-.94-2.06-.94 2.06-2.06.94z\"/><path d=\"M17.41 7.96l-1.37-1.37c-.4-.4-.92-.59-1.43-.59-.52 0-1.04.2-1.43.59L10.3 9.45l-7.72 7.72c-.78.78-.78 2.05 0 2.83L4 21.41c.39.39.9.59 1.41.59.51 0 1.02-.2 1.41-.59l7.78-7.78 2.81-2.81c.8-.78.8-2.07 0-2.86zM5.41 20L4 18.59l7.72-7.72 1.47 1.35L5.41 20z\"/>\n",
              "  </svg>\n",
              "      </button>\n",
              "      \n",
              "  <style>\n",
              "    .colab-df-container {\n",
              "      display:flex;\n",
              "      flex-wrap:wrap;\n",
              "      gap: 12px;\n",
              "    }\n",
              "\n",
              "    .colab-df-convert {\n",
              "      background-color: #E8F0FE;\n",
              "      border: none;\n",
              "      border-radius: 50%;\n",
              "      cursor: pointer;\n",
              "      display: none;\n",
              "      fill: #1967D2;\n",
              "      height: 32px;\n",
              "      padding: 0 0 0 0;\n",
              "      width: 32px;\n",
              "    }\n",
              "\n",
              "    .colab-df-convert:hover {\n",
              "      background-color: #E2EBFA;\n",
              "      box-shadow: 0px 1px 2px rgba(60, 64, 67, 0.3), 0px 1px 3px 1px rgba(60, 64, 67, 0.15);\n",
              "      fill: #174EA6;\n",
              "    }\n",
              "\n",
              "    [theme=dark] .colab-df-convert {\n",
              "      background-color: #3B4455;\n",
              "      fill: #D2E3FC;\n",
              "    }\n",
              "\n",
              "    [theme=dark] .colab-df-convert:hover {\n",
              "      background-color: #434B5C;\n",
              "      box-shadow: 0px 1px 3px 1px rgba(0, 0, 0, 0.15);\n",
              "      filter: drop-shadow(0px 1px 2px rgba(0, 0, 0, 0.3));\n",
              "      fill: #FFFFFF;\n",
              "    }\n",
              "  </style>\n",
              "\n",
              "      <script>\n",
              "        const buttonEl =\n",
              "          document.querySelector('#df-e7404b37-4348-4ecd-88dd-a59ae368f6cf button.colab-df-convert');\n",
              "        buttonEl.style.display =\n",
              "          google.colab.kernel.accessAllowed ? 'block' : 'none';\n",
              "\n",
              "        async function convertToInteractive(key) {\n",
              "          const element = document.querySelector('#df-e7404b37-4348-4ecd-88dd-a59ae368f6cf');\n",
              "          const dataTable =\n",
              "            await google.colab.kernel.invokeFunction('convertToInteractive',\n",
              "                                                     [key], {});\n",
              "          if (!dataTable) return;\n",
              "\n",
              "          const docLinkHtml = 'Like what you see? Visit the ' +\n",
              "            '<a target=\"_blank\" href=https://colab.research.google.com/notebooks/data_table.ipynb>data table notebook</a>'\n",
              "            + ' to learn more about interactive tables.';\n",
              "          element.innerHTML = '';\n",
              "          dataTable['output_type'] = 'display_data';\n",
              "          await google.colab.output.renderOutput(dataTable, element);\n",
              "          const docLink = document.createElement('div');\n",
              "          docLink.innerHTML = docLinkHtml;\n",
              "          element.appendChild(docLink);\n",
              "        }\n",
              "      </script>\n",
              "    </div>\n",
              "  </div>\n",
              "  "
            ]
          },
          "metadata": {},
          "execution_count": 44
        }
      ]
    },
    {
      "cell_type": "code",
      "source": [
        "c=24\n",
        "r=12\n",
        "x=0\n",
        "for i in range(1,13):\n",
        "  x=x+((df_dtrend[\"Mi\"][i]-c*(r+1)/2)**2)/(c*r*(1+r))\n"
      ],
      "metadata": {
        "id": "we8FfhhFJcoI"
      },
      "id": "we8FfhhFJcoI",
      "execution_count": null,
      "outputs": []
    },
    {
      "cell_type": "code",
      "source": [
        "\n",
        "test_stat=12*x\n",
        "print(test_stat)\n",
        "spt.chi2.ppf(1-.01, df=11)"
      ],
      "metadata": {
        "colab": {
          "base_uri": "https://localhost:8080/"
        },
        "id": "_456z3roJ5Mq",
        "outputId": "93f984f3-fbf5-4fba-d25f-c30ccfdf259c"
      },
      "id": "_456z3roJ5Mq",
      "execution_count": null,
      "outputs": [
        {
          "output_type": "stream",
          "name": "stdout",
          "text": [
            "13.983974358974358\n"
          ]
        },
        {
          "output_type": "execute_result",
          "data": {
            "text/plain": [
              "24.724970311318277"
            ]
          },
          "metadata": {},
          "execution_count": 46
        }
      ]
    },
    {
      "cell_type": "code",
      "source": [
        "if test_stat>spt.chi2.ppf(1-.01, df=11):\n",
        "    print (\"The Null Hypothesis is rejected....So seasonality is present\")\n",
        "else:\n",
        "    print (\"The Null Hypothesis is accepted....so seasonality is not presented\")"
      ],
      "metadata": {
        "colab": {
          "base_uri": "https://localhost:8080/"
        },
        "id": "7QBtqHsYKudE",
        "outputId": "62b01af5-cafe-49d5-e784-a97d37e401ea"
      },
      "id": "7QBtqHsYKudE",
      "execution_count": null,
      "outputs": [
        {
          "output_type": "stream",
          "name": "stdout",
          "text": [
            "The Null Hypothesis is accepted....so seasonality is not presented\n"
          ]
        }
      ]
    },
    {
      "cell_type": "markdown",
      "source": [
        "## Test for stationaity"
      ],
      "metadata": {
        "id": "fu510fCEHrg4"
      },
      "id": "fu510fCEHrg4"
    },
    {
      "cell_type": "code",
      "source": [
        "!pip install statsmodels"
      ],
      "metadata": {
        "id": "6WJOg_H2IIGy"
      },
      "id": "6WJOg_H2IIGy",
      "execution_count": null,
      "outputs": []
    },
    {
      "cell_type": "code",
      "source": [
        "## ADF test\n",
        "from statsmodels.tsa.stattools import adfuller\n",
        "series = pd.Series(d_trend.Delta2)\n",
        "result = adfuller(series)\n",
        "print(result[1])"
      ],
      "metadata": {
        "colab": {
          "base_uri": "https://localhost:8080/"
        },
        "id": "Who4zW_XHnrR",
        "outputId": "30991e04-1598-445e-909d-925685cfb720"
      },
      "id": "Who4zW_XHnrR",
      "execution_count": null,
      "outputs": [
        {
          "output_type": "stream",
          "name": "stdout",
          "text": [
            "0.0\n"
          ]
        }
      ]
    },
    {
      "cell_type": "code",
      "source": [
        "count = 0\n",
        "for i in np.arange(2,len(series)-1):\n",
        "  if (series[i] <series[(i-1)] and series[i] <series[(i+1)]) or (series[i] >series[(i-1)] and series[i] >series[(i+1)]):\n",
        "    count +=1\n",
        "count"
      ],
      "metadata": {
        "colab": {
          "base_uri": "https://localhost:8080/"
        },
        "id": "0WdUrX_CCvOM",
        "outputId": "12378c22-05a4-4ace-b7fe-7af7cd781ee4"
      },
      "id": "0WdUrX_CCvOM",
      "execution_count": null,
      "outputs": [
        {
          "output_type": "execute_result",
          "data": {
            "text/plain": [
              "4348"
            ]
          },
          "metadata": {},
          "execution_count": 281
        }
      ]
    },
    {
      "cell_type": "code",
      "source": [
        "n = len(series) - 2\n",
        "P = (count - ((2/3)*(n-2)))/math.sqrt(((16*n)-29)/90)\n",
        "P"
      ],
      "metadata": {
        "colab": {
          "base_uri": "https://localhost:8080/"
        },
        "id": "HzIES5IuExgs",
        "outputId": "470a8c3c-d294-4633-c0b7-2d8104cb356e"
      },
      "id": "HzIES5IuExgs",
      "execution_count": null,
      "outputs": [
        {
          "output_type": "execute_result",
          "data": {
            "text/plain": [
              "14.154257320292194"
            ]
          },
          "metadata": {},
          "execution_count": 282
        }
      ]
    },
    {
      "cell_type": "code",
      "source": [
        "if P>spt.norm.ppf(0.975,0,1):\n",
        "    print (\"The Null Hypothesis is rejected....So the series is not random\")\n",
        "else:\n",
        "    print (\"The Null Hypothesis is accepted....So the series is random\")"
      ],
      "metadata": {
        "colab": {
          "base_uri": "https://localhost:8080/"
        },
        "id": "nSDKX6twT81H",
        "outputId": "3aeabcec-284f-4e09-f59e-fb9dba161f51"
      },
      "id": "nSDKX6twT81H",
      "execution_count": null,
      "outputs": [
        {
          "output_type": "stream",
          "name": "stdout",
          "text": [
            "The Null Hypothesis is rejected....So the series is not random\n"
          ]
        }
      ]
    },
    {
      "cell_type": "code",
      "source": [
        "# Data[\"detrend\"] = detrend\n",
        "# Data = Data.drop(\"Open\",axis = 1)\n",
        "# Data"
      ],
      "metadata": {
        "id": "vSORO68x_img"
      },
      "id": "vSORO68x_img",
      "execution_count": null,
      "outputs": []
    },
    {
      "cell_type": "code",
      "execution_count": null,
      "metadata": {
        "id": "dqloqxu3_jL2",
        "colab": {
          "base_uri": "https://localhost:8080/"
        },
        "outputId": "75d2e060-b50c-4d57-a060-68fbbc5843e7"
      },
      "outputs": [
        {
          "output_type": "execute_result",
          "data": {
            "text/plain": [
              "(5799, 1)"
            ]
          },
          "metadata": {},
          "execution_count": 288
        }
      ],
      "source": [
        "l = 5800\n",
        "data_train = d_trend.iloc[1:l,:]\n",
        "np.shape(data_train)"
      ],
      "id": "dqloqxu3_jL2"
    },
    {
      "cell_type": "code",
      "execution_count": null,
      "metadata": {
        "id": "avnAnFM7_jL4",
        "colab": {
          "base_uri": "https://localhost:8080/"
        },
        "outputId": "b92395cd-b608-4606-db29-49a1733d1c7f"
      },
      "outputs": [
        {
          "output_type": "execute_result",
          "data": {
            "text/plain": [
              "(42, 1)"
            ]
          },
          "metadata": {},
          "execution_count": 289
        }
      ],
      "source": [
        "data_test = d_trend.iloc[l:,:]\n",
        "np.shape(data_test)"
      ],
      "id": "avnAnFM7_jL4"
    },
    {
      "cell_type": "code",
      "execution_count": null,
      "metadata": {
        "id": "7nu-J97t_jL4",
        "colab": {
          "base_uri": "https://localhost:8080/",
          "height": 295
        },
        "outputId": "e39f7772-325d-4e32-df2f-ea0510c73e78"
      },
      "outputs": [
        {
          "output_type": "display_data",
          "data": {
            "text/plain": [
              "<Figure size 1440x288 with 1 Axes>"
            ],
            "image/png": "[encoded data removed]"
          },
          "metadata": {
            "needs_background": "light"
          }
        }
      ],
      "source": [
        "from IPython.core.pylabtools import figsize\n",
        "figsize(20,4)\n",
        "plt.plot(data_train,label = \"train data\")\n",
        "plt.plot(data_test,label = \"test data\")\n",
        "plt.xlabel(\"Date\")\n",
        "plt.ylabel(\"Close\")\n",
        "plt.title(\"Data with train & test splitting\")\n",
        "plt.legend()\n",
        "plt.show()"
      ],
      "id": "7nu-J97t_jL4"
    },
    {
      "cell_type": "markdown",
      "source": [
        "Now here auto correlation plotting"
      ],
      "metadata": {
        "id": "_pwKbdirU0o9"
      },
      "id": "_pwKbdirU0o9"
    },
    {
      "cell_type": "code",
      "source": [
        "import statsmodels.api as smp\n",
        "smp.graphics.tsa.plot_acf(d_trend,lags =40 )\n",
        "smp.graphics.tsa.plot_pacf(d_trend,lags =40 )\n",
        "plt.show()"
      ],
      "metadata": {
        "id": "sCAsGQooYsYz",
        "colab": {
          "base_uri": "https://localhost:8080/",
          "height": 545
        },
        "outputId": "c3beeb7d-7a61-43bf-9d35-4b607a1c0085"
      },
      "id": "sCAsGQooYsYz",
      "execution_count": null,
      "outputs": [
        {
          "output_type": "display_data",
          "data": {
            "text/plain": [
              "<Figure size 1440x288 with 1 Axes>"
            ],
            "image/png": "[encoded data removed]"
          },
          "metadata": {
            "needs_background": "light"
          }
        },
        {
          "output_type": "display_data",
          "data": {
            "text/plain": [
              "<Figure size 1440x288 with 1 Axes>"
            ],
            "image/png": "[encoded data removed]"
          },
          "metadata": {
            "needs_background": "light"
          }
        }
      ]
    },
    {
      "cell_type": "markdown",
      "source": [
        "#Fitting of MA process\n"
      ],
      "metadata": {
        "id": "YqjfklOOrCGm"
      },
      "id": "YqjfklOOrCGm"
    },
    {
      "cell_type": "code",
      "source": [
        "l = 5800\n",
        "data_train = d_trend.iloc[1:l,:]\n",
        "data_test = d_trend.iloc[l:,:]\n",
        "len(data_test)"
      ],
      "metadata": {
        "colab": {
          "base_uri": "https://localhost:8080/"
        },
        "id": "btIdFR3hCQY2",
        "outputId": "20aa2765-f012-4e49-ff34-3d97db06279e"
      },
      "id": "btIdFR3hCQY2",
      "execution_count": null,
      "outputs": [
        {
          "output_type": "execute_result",
          "data": {
            "text/plain": [
              "42"
            ]
          },
          "metadata": {},
          "execution_count": 293
        }
      ]
    },
    {
      "cell_type": "code",
      "source": [
        "data_train"
      ],
      "metadata": {
        "colab": {
          "base_uri": "https://localhost:8080/",
          "height": 455
        },
        "id": "Saxip_piCceK",
        "outputId": "edc6417f-0671-4d3d-8d71-83ae6a25af12"
      },
      "id": "Saxip_piCceK",
      "execution_count": null,
      "outputs": [
        {
          "output_type": "execute_result",
          "data": {
            "text/plain": [
              "                             Delta2\n",
              "Date                               \n",
              "1997-05-16 00:00:00+00:00  0.093937\n",
              "1997-05-19 00:00:00+00:00 -0.037831\n",
              "1997-05-20 00:00:00+00:00 -0.073250\n",
              "1997-05-21 00:00:00+00:00  0.107013\n",
              "1997-05-22 00:00:00+00:00  0.093438\n",
              "...                             ...\n",
              "2020-05-27 00:00:00+00:00  0.021798\n",
              "2020-05-28 00:00:00+00:00  0.000013\n",
              "2020-05-29 00:00:00+00:00 -0.005451\n",
              "2020-06-01 00:00:00+00:00 -0.007322\n",
              "2020-06-02 00:00:00+00:00  0.003400\n",
              "\n",
              "[5799 rows x 1 columns]"
            ],
            "text/html": [
              "\n",
              "  <div id=\"df-05db9932-1ada-4bad-bd96-84619398890e\">\n",
              "    <div class=\"colab-df-container\">\n",
              "      <div>\n",
              "<style scoped>\n",
              "    .dataframe tbody tr th:only-of-type {\n",
              "        vertical-align: middle;\n",
              "    }\n",
              "\n",
              "    .dataframe tbody tr th {\n",
              "        vertical-align: top;\n",
              "    }\n",
              "\n",
              "    .dataframe thead th {\n",
              "        text-align: right;\n",
              "    }\n",
              "</style>\n",
              "<table border=\"1\" class=\"dataframe\">\n",
              "  <thead>\n",
              "    <tr style=\"text-align: right;\">\n",
              "      <th></th>\n",
              "      <th>Delta2</th>\n",
              "    </tr>\n",
              "    <tr>\n",
              "      <th>Date</th>\n",
              "      <th></th>\n",
              "    </tr>\n",
              "  </thead>\n",
              "  <tbody>\n",
              "    <tr>\n",
              "      <th>1997-05-16 00:00:00+00:00</th>\n",
              "      <td>0.093937</td>\n",
              "    </tr>\n",
              "    <tr>\n",
              "      <th>1997-05-19 00:00:00+00:00</th>\n",
              "      <td>-0.037831</td>\n",
              "    </tr>\n",
              "    <tr>\n",
              "      <th>1997-05-20 00:00:00+00:00</th>\n",
              "      <td>-0.073250</td>\n",
              "    </tr>\n",
              "    <tr>\n",
              "      <th>1997-05-21 00:00:00+00:00</th>\n",
              "      <td>0.107013</td>\n",
              "    </tr>\n",
              "    <tr>\n",
              "      <th>1997-05-22 00:00:00+00:00</th>\n",
              "      <td>0.093438</td>\n",
              "    </tr>\n",
              "    <tr>\n",
              "      <th>...</th>\n",
              "      <td>...</td>\n",
              "    </tr>\n",
              "    <tr>\n",
              "      <th>2020-05-27 00:00:00+00:00</th>\n",
              "      <td>0.021798</td>\n",
              "    </tr>\n",
              "    <tr>\n",
              "      <th>2020-05-28 00:00:00+00:00</th>\n",
              "      <td>0.000013</td>\n",
              "    </tr>\n",
              "    <tr>\n",
              "      <th>2020-05-29 00:00:00+00:00</th>\n",
              "      <td>-0.005451</td>\n",
              "    </tr>\n",
              "    <tr>\n",
              "      <th>2020-06-01 00:00:00+00:00</th>\n",
              "      <td>-0.007322</td>\n",
              "    </tr>\n",
              "    <tr>\n",
              "      <th>2020-06-02 00:00:00+00:00</th>\n",
              "      <td>0.003400</td>\n",
              "    </tr>\n",
              "  </tbody>\n",
              "</table>\n",
              "<p>5799 rows × 1 columns</p>\n",
              "</div>\n",
              "      <button class=\"colab-df-convert\" onclick=\"convertToInteractive('df-05db9932-1ada-4bad-bd96-84619398890e')\"\n",
              "              title=\"Convert this dataframe to an interactive table.\"\n",
              "              style=\"display:none;\">\n",
              "        \n",
              "  <svg xmlns=\"http://www.w3.org/2000/svg\" height=\"24px\"viewBox=\"0 0 24 24\"\n",
              "       width=\"24px\">\n",
              "    <path d=\"M0 0h24v24H0V0z\" fill=\"none\"/>\n",
              "    <path d=\"M18.56 5.44l.94 2.06.94-2.06 2.06-.94-2.06-.94-.94-2.06-.94 2.06-2.06.94zm-11 1L8.5 8.5l.94-2.06 2.06-.94-2.06-.94L8.5 2.5l-.94 2.06-2.06.94zm10 10l.94 2.06.94-2.06 2.06-.94-2.06-.94-.94-2.06-.94 2.06-2.06.94z\"/><path d=\"M17.41 7.96l-1.37-1.37c-.4-.4-.92-.59-1.43-.59-.52 0-1.04.2-1.43.59L10.3 9.45l-7.72 7.72c-.78.78-.78 2.05 0 2.83L4 21.41c.39.39.9.59 1.41.59.51 0 1.02-.2 1.41-.59l7.78-7.78 2.81-2.81c.8-.78.8-2.07 0-2.86zM5.41 20L4 18.59l7.72-7.72 1.47 1.35L5.41 20z\"/>\n",
              "  </svg>\n",
              "      </button>\n",
              "      \n",
              "  <style>\n",
              "    .colab-df-container {\n",
              "      display:flex;\n",
              "      flex-wrap:wrap;\n",
              "      gap: 12px;\n",
              "    }\n",
              "\n",
              "    .colab-df-convert {\n",
              "      background-color: #E8F0FE;\n",
              "      border: none;\n",
              "      border-radius: 50%;\n",
              "      cursor: pointer;\n",
              "      display: none;\n",
              "      fill: #1967D2;\n",
              "      height: 32px;\n",
              "      padding: 0 0 0 0;\n",
              "      width: 32px;\n",
              "    }\n",
              "\n",
              "    .colab-df-convert:hover {\n",
              "      background-color: #E2EBFA;\n",
              "      box-shadow: 0px 1px 2px rgba(60, 64, 67, 0.3), 0px 1px 3px 1px rgba(60, 64, 67, 0.15);\n",
              "      fill: #174EA6;\n",
              "    }\n",
              "\n",
              "    [theme=dark] .colab-df-convert {\n",
              "      background-color: #3B4455;\n",
              "      fill: #D2E3FC;\n",
              "    }\n",
              "\n",
              "    [theme=dark] .colab-df-convert:hover {\n",
              "      background-color: #434B5C;\n",
              "      box-shadow: 0px 1px 3px 1px rgba(0, 0, 0, 0.15);\n",
              "      filter: drop-shadow(0px 1px 2px rgba(0, 0, 0, 0.3));\n",
              "      fill: #FFFFFF;\n",
              "    }\n",
              "  </style>\n",
              "\n",
              "      <script>\n",
              "        const buttonEl =\n",
              "          document.querySelector('#df-05db9932-1ada-4bad-bd96-84619398890e button.colab-df-convert');\n",
              "        buttonEl.style.display =\n",
              "          google.colab.kernel.accessAllowed ? 'block' : 'none';\n",
              "\n",
              "        async function convertToInteractive(key) {\n",
              "          const element = document.querySelector('#df-05db9932-1ada-4bad-bd96-84619398890e');\n",
              "          const dataTable =\n",
              "            await google.colab.kernel.invokeFunction('convertToInteractive',\n",
              "                                                     [key], {});\n",
              "          if (!dataTable) return;\n",
              "\n",
              "          const docLinkHtml = 'Like what you see? Visit the ' +\n",
              "            '<a target=\"_blank\" href=https://colab.research.google.com/notebooks/data_table.ipynb>data table notebook</a>'\n",
              "            + ' to learn more about interactive tables.';\n",
              "          element.innerHTML = '';\n",
              "          dataTable['output_type'] = 'display_data';\n",
              "          await google.colab.output.renderOutput(dataTable, element);\n",
              "          const docLink = document.createElement('div');\n",
              "          docLink.innerHTML = docLinkHtml;\n",
              "          element.appendChild(docLink);\n",
              "        }\n",
              "      </script>\n",
              "    </div>\n",
              "  </div>\n",
              "  "
            ]
          },
          "metadata": {},
          "execution_count": 294
        }
      ]
    },
    {
      "cell_type": "code",
      "source": [
        "from statsmodels.tsa.arima_model import ARMA\n",
        "\n",
        "MA_Model = ARMA(np.asarray(data_train),order = (0,1))\n",
        "MA_fitted = MA_Model.fit()\n",
        "\n",
        "print(MA_fitted.params)\n",
        "# plt.legend()\n",
        "# plt.show()"
      ],
      "metadata": {
        "id": "sLN9vB0wrGUS",
        "colab": {
          "base_uri": "https://localhost:8080/"
        },
        "outputId": "51f3b85a-757f-42cf-ee00-5242991cdbc6"
      },
      "id": "sLN9vB0wrGUS",
      "execution_count": null,
      "outputs": [
        {
          "output_type": "stream",
          "name": "stdout",
          "text": [
            "[-1.72979513e-07 -9.99946562e-01]\n"
          ]
        }
      ]
    },
    {
      "cell_type": "code",
      "source": [
        "MA_fitted.summary()"
      ],
      "metadata": {
        "colab": {
          "base_uri": "https://localhost:8080/",
          "height": 289
        },
        "id": "HhMtoBuiijZ6",
        "outputId": "3831fecc-71d9-49e8-f621-f9933ac4a28a"
      },
      "id": "HhMtoBuiijZ6",
      "execution_count": null,
      "outputs": [
        {
          "output_type": "execute_result",
          "data": {
            "text/plain": [
              "<class 'statsmodels.iolib.summary.Summary'>\n",
              "\"\"\"\n",
              "                              ARMA Model Results                              \n",
              "==============================================================================\n",
              "Dep. Variable:                      y   No. Observations:                 5799\n",
              "Model:                     ARMA(0, 1)   Log Likelihood               10689.158\n",
              "Method:                       css-mle   S.D. of innovations              0.038\n",
              "Date:                Thu, 10 Nov 2022   AIC                         -21372.317\n",
              "Time:                        21:41:11   BIC                         -21352.320\n",
              "Sample:                             0   HQIC                        -21365.361\n",
              "                                                                              \n",
              "==============================================================================\n",
              "                 coef    std err          z      P>|z|      [0.025      0.975]\n",
              "------------------------------------------------------------------------------\n",
              "const       -1.73e-07   3.02e-07     -0.573      0.567   -7.65e-07    4.19e-07\n",
              "ma.L1.y       -0.9999      0.001  -1581.279      0.000      -1.001      -0.999\n",
              "                                    Roots                                    \n",
              "=============================================================================\n",
              "                  Real          Imaginary           Modulus         Frequency\n",
              "-----------------------------------------------------------------------------\n",
              "MA.1            1.0001           +0.0000j            1.0001            0.0000\n",
              "-----------------------------------------------------------------------------\n",
              "\"\"\""
            ],
            "text/html": [
              "<table class=\"simpletable\">\n",
              "<caption>ARMA Model Results</caption>\n",
              "<tr>\n",
              "  <th>Dep. Variable:</th>         <td>y</td>        <th>  No. Observations:  </th>    <td>5799</td>   \n",
              "</tr>\n",
              "<tr>\n",
              "  <th>Model:</th>            <td>ARMA(0, 1)</td>    <th>  Log Likelihood     </th>  <td>10689.158</td>\n",
              "</tr>\n",
              "<tr>\n",
              "  <th>Method:</th>             <td>css-mle</td>     <th>  S.D. of innovations</th>    <td>0.038</td>  \n",
              "</tr>\n",
              "<tr>\n",
              "  <th>Date:</th>          <td>Thu, 10 Nov 2022</td> <th>  AIC                </th> <td>-21372.317</td>\n",
              "</tr>\n",
              "<tr>\n",
              "  <th>Time:</th>              <td>21:41:11</td>     <th>  BIC                </th> <td>-21352.320</td>\n",
              "</tr>\n",
              "<tr>\n",
              "  <th>Sample:</th>                <td>0</td>        <th>  HQIC               </th> <td>-21365.361</td>\n",
              "</tr>\n",
              "<tr>\n",
              "  <th></th>                       <td> </td>        <th>                     </th>      <td> </td>    \n",
              "</tr>\n",
              "</table>\n",
              "<table class=\"simpletable\">\n",
              "<tr>\n",
              "     <td></td>        <th>coef</th>     <th>std err</th>      <th>z</th>      <th>P>|z|</th>  <th>[0.025</th>    <th>0.975]</th>  \n",
              "</tr>\n",
              "<tr>\n",
              "  <th>const</th>   <td> -1.73e-07</td> <td> 3.02e-07</td> <td>   -0.573</td> <td> 0.567</td> <td>-7.65e-07</td> <td> 4.19e-07</td>\n",
              "</tr>\n",
              "<tr>\n",
              "  <th>ma.L1.y</th> <td>   -0.9999</td> <td>    0.001</td> <td>-1581.279</td> <td> 0.000</td> <td>   -1.001</td> <td>   -0.999</td>\n",
              "</tr>\n",
              "</table>\n",
              "<table class=\"simpletable\">\n",
              "<caption>Roots</caption>\n",
              "<tr>\n",
              "    <td></td>   <th>            Real</th>  <th>         Imaginary</th> <th>         Modulus</th>  <th>        Frequency</th>\n",
              "</tr>\n",
              "<tr>\n",
              "  <th>MA.1</th> <td>           1.0001</td> <td>          +0.0000j</td> <td>           1.0001</td> <td>           0.0000</td>\n",
              "</tr>\n",
              "</table>"
            ]
          },
          "metadata": {},
          "execution_count": 296
        }
      ]
    },
    {
      "cell_type": "code",
      "source": [
        "MA_Predict = MA_fitted.predict(4676,d_trend.shape[0])\n",
        "MA_Predict"
      ],
      "metadata": {
        "colab": {
          "base_uri": "https://localhost:8080/"
        },
        "id": "pJhw5IsSLg_a",
        "outputId": "2600eaa1-cd47-467a-fd1b-76798cffeea1"
      },
      "id": "pJhw5IsSLg_a",
      "execution_count": null,
      "outputs": [
        {
          "output_type": "execute_result",
          "data": {
            "text/plain": [
              "array([ 3.05355441e-03, -2.36279054e-02,  1.76735951e-02, ...,\n",
              "       -1.72979513e-07, -1.72979513e-07, -1.72979513e-07])"
            ]
          },
          "metadata": {},
          "execution_count": 297
        }
      ]
    },
    {
      "cell_type": "code",
      "source": [
        "l"
      ],
      "metadata": {
        "colab": {
          "base_uri": "https://localhost:8080/"
        },
        "id": "MaTYgaSgl0ux",
        "outputId": "9f1f43fc-f1ca-461e-f773-06e06afacae9"
      },
      "id": "MaTYgaSgl0ux",
      "execution_count": null,
      "outputs": [
        {
          "output_type": "execute_result",
          "data": {
            "text/plain": [
              "5800"
            ]
          },
          "metadata": {},
          "execution_count": 298
        }
      ]
    },
    {
      "cell_type": "code",
      "source": [
        "\n",
        "plt.plot(np.arange(4675,d_trend.shape[0]),d_trend[\"Delta2\"][4675:d_trend.shape[0]+1],label = \"observed data\")\n",
        "plt.plot(np.arange(4675,d_trend.shape[0]),MA_Predict,label = \"forcast\")\n",
        "plt.legend()\n",
        "plt.show()\n",
        "len(np.arange(4675,d_trend.shape[0]))"
      ],
      "metadata": {
        "colab": {
          "base_uri": "https://localhost:8080/",
          "height": 283
        },
        "id": "5GeUumfYXnpa",
        "outputId": "1fd9d33f-444c-42f0-a469-e03075641cff"
      },
      "id": "5GeUumfYXnpa",
      "execution_count": null,
      "outputs": [
        {
          "output_type": "display_data",
          "data": {
            "text/plain": [
              "<Figure size 1440x288 with 1 Axes>"
            ],
            "image/png": "[encoded data removed]"
          },
          "metadata": {
            "needs_background": "light"
          }
        },
        {
          "output_type": "execute_result",
          "data": {
            "text/plain": [
              "1167"
            ]
          },
          "metadata": {},
          "execution_count": 299
        }
      ]
    },
    {
      "cell_type": "code",
      "source": [
        "from statsmodels.tsa.arima_model import ARMA\n",
        "\n",
        "MA_Model = ARMA(np.asarray(d_trend),order = (0,1))\n",
        "MA_fitted = MA_Model.fit()\n",
        "MA_fitted.plot_predict(start = 5400,end = 5860)"
      ],
      "metadata": {
        "colab": {
          "base_uri": "https://localhost:8080/",
          "height": 513
        },
        "id": "Am6eOBSmV_5P",
        "outputId": "b460ac47-3472-4199-f680-899a45b428fe"
      },
      "id": "Am6eOBSmV_5P",
      "execution_count": null,
      "outputs": [
        {
          "output_type": "execute_result",
          "data": {
            "text/plain": [
              "<Figure size 1440x288 with 1 Axes>"
            ],
            "image/png": "[encoded data removed]"
          },
          "metadata": {},
          "execution_count": 300
        },
        {
          "output_type": "display_data",
          "data": {
            "text/plain": [
              "<Figure size 1440x288 with 1 Axes>"
            ],
            "image/png": "[encoded data removed]"
          },
          "metadata": {
            "needs_background": "light"
          }
        }
      ]
    },
    {
      "cell_type": "markdown",
      "source": [
        "## Forecasting"
      ],
      "metadata": {
        "id": "TeLGYuQRBrtc"
      },
      "id": "TeLGYuQRBrtc"
    },
    {
      "cell_type": "code",
      "source": [
        "theta = MA_fitted.params[1]\n",
        "beta = theta/(1 + theta**2)"
      ],
      "metadata": {
        "id": "wsUTht2xEy3l"
      },
      "id": "wsUTht2xEy3l",
      "execution_count": null,
      "outputs": []
    },
    {
      "cell_type": "code",
      "source": [
        "d_trend.Delta2[5800]\n",
        "[d_trend.Delta2[5800]]"
      ],
      "metadata": {
        "colab": {
          "base_uri": "https://localhost:8080/"
        },
        "id": "YVzpH8fpNNtW",
        "outputId": "40b9f970-0a36-4788-c995-023114a983f7"
      },
      "id": "YVzpH8fpNNtW",
      "execution_count": null,
      "outputs": [
        {
          "output_type": "execute_result",
          "data": {
            "text/plain": [
              "[-0.017186550187873628]"
            ]
          },
          "metadata": {},
          "execution_count": 238
        }
      ]
    },
    {
      "cell_type": "code",
      "source": [
        "x = [d_trend.Delta2[5800]]\n",
        "L = list()\n",
        "for i in range(5800,len(d_trend)+1):\n",
        "  x.append(beta*x[i - 5800])\n",
        "\n",
        "x"
      ],
      "metadata": {
        "colab": {
          "base_uri": "https://localhost:8080/"
        },
        "id": "Fk4V4OKtHwF3",
        "outputId": "18463bb6-16c0-4bd6-f404-249ad1badb1d"
      },
      "id": "Fk4V4OKtHwF3",
      "execution_count": null,
      "outputs": [
        {
          "output_type": "execute_result",
          "data": {
            "text/plain": [
              "[-0.017186550187873628,\n",
              " 0.008593275081666676,\n",
              " -0.004296637534698269,\n",
              " 0.0021483187642816,\n",
              " -0.0010741593806070327,\n",
              " 0.0005370796895366327,\n",
              " -0.00026853984438487456,\n",
              " 0.00013426992200071637,\n",
              " -6.713496090449773e-05,\n",
              " 3.356748040431864e-05,\n",
              " -1.6783740178194207e-05,\n",
              " 8.391870077114547e-06,\n",
              " -4.195935032565995e-06,\n",
              " 2.0979675132873583e-06,\n",
              " -1.0489837551458596e-06,\n",
              " 5.2449187682402e-07,\n",
              " -2.622459380375551e-07,\n",
              " 1.311229688315501e-07,\n",
              " -6.556148432216133e-08,\n",
              " 3.27807421142738e-08,\n",
              " -1.639037103373347e-08,\n",
              " 8.19518550516502e-09,\n",
              " -4.097592746731652e-09,\n",
              " 2.048796370440397e-09,\n",
              " -1.0243981837574841e-09,\n",
              " 5.121990911473848e-10,\n",
              " -2.560995452080138e-10,\n",
              " 1.280497724211676e-10,\n",
              " -6.402488611916415e-11,\n",
              " 3.201244301387225e-11,\n",
              " -1.600622148408121e-11,\n",
              " 8.003110730613149e-12,\n",
              " -4.001555359592846e-12,\n",
              " 2.000777676939559e-12,\n",
              " -1.0003888370413474e-12,\n",
              " 5.001944178064577e-13,\n",
              " -2.500972085461208e-13,\n",
              " 1.250486040945064e-13,\n",
              " -6.25243019579762e-14,\n",
              " 3.1262150934349596e-14,\n",
              " -1.5631075444855547e-14,\n",
              " 7.815537711268148e-15,\n",
              " -3.907768850054261e-15,\n",
              " 1.9538844222372242e-15]"
            ]
          },
          "metadata": {},
          "execution_count": 239
        }
      ]
    },
    {
      "cell_type": "markdown",
      "source": [
        "## Best Linear Predictor"
      ],
      "metadata": {
        "id": "KisUlQm6foM4"
      },
      "id": "KisUlQm6foM4"
    },
    {
      "cell_type": "code",
      "source": [
        "plt.plot(np.arange(5820,d_trend.shape[0]),d_trend[\"Delta2\"][5820:d_trend.shape[0]+1],label = \"observed data\")\n",
        "plt.plot(np.arange(5820,d_trend.shape[0]),MA_Predict[-23:-1],label = \"forcast\")\n",
        "plt.ylim((-0.3,0.3))\n",
        "plt.legend()\n",
        "plt.show()"
      ],
      "metadata": {
        "colab": {
          "base_uri": "https://localhost:8080/",
          "height": 269
        },
        "id": "l_uc0RMfOxEH",
        "outputId": "7964ea68-4d9e-4fd3-8fda-7dba789f7f63"
      },
      "id": "l_uc0RMfOxEH",
      "execution_count": null,
      "outputs": [
        {
          "output_type": "display_data",
          "data": {
            "text/plain": [
              "<Figure size 864x288 with 1 Axes>"
            ],
            "image/png": "[encoded data removed]"
          },
          "metadata": {
            "needs_background": "light"
          }
        }
      ]
    },
    {
      "cell_type": "code",
      "source": [
        "res = d_trend[\"Delta2\"][5820:d_trend.shape[0]+1] - MA_Predict[-23:-1]\n",
        "plt.scatter(np.arange(5820,d_trend.shape[0]),res)\n",
        "plt.title(\"Residual plot\")\n",
        "plt.xlabel(\"index\")\n",
        "plt.ylabel(\"residuals\")\n",
        "plt.show()"
      ],
      "metadata": {
        "colab": {
          "base_uri": "https://localhost:8080/",
          "height": 295
        },
        "id": "2laIkKHFY0Zy",
        "outputId": "6335eab7-01f2-4924-bf55-1d5a4c85f8e8"
      },
      "id": "2laIkKHFY0Zy",
      "execution_count": null,
      "outputs": [
        {
          "output_type": "display_data",
          "data": {
            "text/plain": [
              "<Figure size 864x288 with 1 Axes>"
            ],
            "image/png": "[encoded data removed]"
          },
          "metadata": {
            "needs_background": "light"
          }
        }
      ]
    },
    {
      "cell_type": "code",
      "source": [
        "import statsmodels.api as smp\n",
        "res = pd.DataFrame(res)\n",
        "smp.graphics.tsa.plot_acf(res,lags =20 )\n",
        "smp.graphics.tsa.plot_pacf(res,lags =10 )\n",
        "plt.show()\n"
      ],
      "metadata": {
        "colab": {
          "base_uri": "https://localhost:8080/",
          "height": 545
        },
        "id": "x158NcfiZxcp",
        "outputId": "d1e97a6f-7941-4c20-ee43-443585706083"
      },
      "id": "x158NcfiZxcp",
      "execution_count": null,
      "outputs": [
        {
          "output_type": "display_data",
          "data": {
            "text/plain": [
              "<Figure size 864x288 with 1 Axes>"
            ],
            "image/png": "[encoded data removed]"
          },
          "metadata": {
            "needs_background": "light"
          }
        },
        {
          "output_type": "display_data",
          "data": {
            "text/plain": [
              "<Figure size 864x288 with 1 Axes>"
            ],
            "image/png": "[encoded data removed]"
          },
          "metadata": {
            "needs_background": "light"
          }
        }
      ]
    }
  ],
  "metadata": {
    "kernelspec": {
      "display_name": "Python 3 (ipykernel)",
      "language": "python",
      "name": "python3"
    },
    "language_info": {
      "codemirror_mode": {
        "name": "ipython",
        "version": 3
      },
      "file_extension": ".py",
      "mimetype": "text/x-python",
      "name": "python",
      "nbconvert_exporter": "python",
      "pygments_lexer": "ipython3",
      "version": "3.9.7"
    },
    "colab": {
      "provenance": [],
      "collapsed_sections": []
    },
    "accelerator": "TPU",
    "gpuClass": "standard"
  },
  "nbformat": 4,
  "nbformat_minor": 5
}